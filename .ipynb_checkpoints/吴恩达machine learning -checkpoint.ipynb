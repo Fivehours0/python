{
 "cells": [
  {
   "cell_type": "code",
   "execution_count": 25,
   "metadata": {},
   "outputs": [
    {
     "data": {
      "image/png": "[encoded data removed]",
      "text/plain": [
       "<Figure size 432x288 with 1 Axes>"
      ]
     },
     "metadata": {
      "needs_background": "light"
     },
     "output_type": "display_data"
    }
   ],
   "source": [
    "import matplotlib.pyplot as plt\n",
    "''' m=number of training examples\n",
    "    xs = \"input\" variable/features\n",
    "    ys = \"output\" variable/\"target\" variable\n",
    "    (x, y) = one training example\n",
    "    (xi, yi) = i training example'''\n",
    "x = [1, 2, 2, 3, 3, 4, 5, 6, 6, 6, 8, 10]\n",
    "y = [-890, -1411, -1560, -2220, -2091, -2878, -3537, -3268, -3920, -4163, -5471, -5157]\n",
    "y1 = lambda x: -569.6+(-530.9) * x\n",
    "plt.scatter(x, list(map(y1, x)), c='r')\n",
    "plt.scatter(x, y, c='b')\n",
    "plt.show()"
   ]
  },
  {
   "cell_type": "code",
   "execution_count": 7,
   "metadata": {},
   "outputs": [
    {
     "data": {
      "text/plain": [
       "array([ 0.71584855, -0.85723654,  1.2417429 , -1.10035491])"
      ]
     },
     "execution_count": 7,
     "metadata": {},
     "output_type": "execute_result"
    }
   ],
   "source": [
    "import numpy as np\n",
    "arr1 = np.array([7921, 5184, 8836, 4761])\n",
    "arr1 = arr1 / (arr1.max()-arr1.min())\n",
    "arr1 = (arr1-arr1.mean())/arr1.std()\n",
    "arr1"
   ]
  }
 ],
 "metadata": {
  "kernelspec": {
   "display_name": "Python 3",
   "language": "python",
   "name": "python3"
  },
  "language_info": {
   "codemirror_mode": {
    "name": "ipython",
    "version": 3
   },
   "file_extension": ".py",
   "mimetype": "text/x-python",
   "name": "python",
   "nbconvert_exporter": "python",
   "pygments_lexer": "ipython3",
   "version": "3.7.3"
  }
 },
 "nbformat": 4,
 "nbformat_minor": 2
}
