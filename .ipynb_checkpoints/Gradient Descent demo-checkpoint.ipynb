{
 "cells": [
  {
   "cell_type": "code",
   "execution_count": 4,
   "metadata": {
    "scrolled": true
   },
   "outputs": [],
   "source": [
    "import numpy as np\n",
    "import matplotlib.pyplot as plt\n",
    "x_data = [ 338., 333., 328., 207., 226., 25., 179., 60., 208., 606. ] #float 类型\n",
    "y_data = [ 640., 633., 619., 393., 428., 27., 193., 66., 226., 1591. ]\n",
    "#y_data = bias + w * x_data"
   ]
  },
  {
   "cell_type": "code",
   "execution_count": 5,
   "metadata": {},
   "outputs": [],
   "source": [
    "#以下为轮询的方法求出最佳b and w  但这里只是用来构建登高线图\n",
    "x = np.arange(-200, -100, 1) #bias\n",
    "y = np.arange(-5, 5, 0.1) #weight\n",
    "Z = np.zeros( ( len(x), len(y) ) )\n",
    "#X,Y = np.meshgrid( x, y )      #X为x做行向量 len(x)行   Y为y做列向量 len(y)列\n",
    "for i in range(len(x)) :\n",
    "    for j in range(len(y)) :\n",
    "        b = x[i]\n",
    "        w = y[j]\n",
    "        Z[j][i] = 0     #x坐标不变 ，对y进行迭代  1列1列的写数据\n",
    "        for n in range(len(x_data)) :\n",
    "            Z[j][i] += (y_data[n] - b - w * x_data[n]) ** 2  #算出在这组b和w下的loss\n",
    "        Z[j][i] /= len(x_data)    #求平均值"
   ]
  },
  {
   "cell_type": "code",
   "execution_count": 6,
   "metadata": {
    "scrolled": false
   },
   "outputs": [
    {
     "data": {
      "image/png": "[encoded data removed]",
      "text/plain": [
       "<Figure size 432x288 with 1 Axes>"
      ]
     },
     "metadata": {},
     "output_type": "display_data"
    }
   ],
   "source": [
    "#Gradient descent \n",
    "b = -120 #inital b\n",
    "w = -4  #inital w\n",
    "lr = 1#learning rate\n",
    "iteration = 100000  #迭代100000次\n",
    "\n",
    "#store inital value for plotting\n",
    "b_history = [b]\n",
    "w_history = [w]\n",
    "\n",
    "#w and b 客制化的learning rate\n",
    "lr_b = 0\n",
    "lr_w = 0\n",
    "\n",
    "#iteration \n",
    "for i in range(iteration) :\n",
    "    b_grad = 0    #b and w 的偏微分\n",
    "    w_grad = 0\n",
    "    for n in range( len(x_data) ) :\n",
    "        #loss function 对b and w 求偏导\n",
    "        b_grad = b_grad - 2.0 * (y_data[n] - b - w * x_data[n]) * 1.0\n",
    "        w_grad = w_grad - 2.0 * (y_data[n] - b - w * x_data[n]) * x_data[n]\n",
    "     \n",
    "    \n",
    "    lr_b += b_grad ** 2\n",
    "    lr_w += w_grad ** 2\n",
    "    \n",
    "    #updata parameters   \n",
    "    b = b - lr/np.sqrt(lr_b) * b_grad\n",
    "    w = w - lr/np.sqrt(lr_w) * w_grad\n",
    "    \n",
    "    #store parameters for plotting \n",
    "    b_history.append(b)\n",
    "    w_history.append(w)\n",
    "    \n",
    "#plot figure\n",
    "#ms markersize size of the marker in points   \n",
    "#markeredgewidth line width around the marker symbol\n",
    "plt.contourf( x, y, Z, 50, alpha = 0.5, cmap = plt.get_cmap('jet') ) #cmap = colormap\n",
    "plt.plot([-188.4],[2.67],'x', ms = 12, markeredgewidth = 3, color = 'orange')\n",
    "plt.plot(b_history, w_history, 'o-', ms = 3, lw = 1.5, color = 'black')\n",
    "plt.xlim(-200, -100)    #设置x坐标值范围\n",
    "plt.ylim(-5, 5)         #设置y坐标值范围\n",
    "plt.xlabel('b', fontsize = 12)\n",
    "plt.ylabel('w', fontsize = 12)\n",
    "plt.show()"
   ]
  },
  {
   "cell_type": "code",
   "execution_count": null,
   "metadata": {},
   "outputs": [],
   "source": []
  }
 ],
 "metadata": {
  "kernelspec": {
   "display_name": "Python 3",
   "language": "python",
   "name": "python3"
  },
  "language_info": {
   "codemirror_mode": {
    "name": "ipython",
    "version": 3
   },
   "file_extension": ".py",
   "mimetype": "text/x-python",
   "name": "python",
   "nbconvert_exporter": "python",
   "pygments_lexer": "ipython3",
   "version": "3.7.3"
  }
 },
 "nbformat": 4,
 "nbformat_minor": 2
}
