{
 "cells": [
  {
   "cell_type": "code",
   "execution_count": 53,
   "metadata": {},
   "outputs": [],
   "source": [
    "import tensorflow as tf\n",
    "import numpy as np\n",
    "import matplotlib.pyplot as plt"
   ]
  },
  {
   "cell_type": "code",
   "execution_count": 5,
   "metadata": {},
   "outputs": [
    {
     "name": "stdout",
     "output_type": "stream",
     "text": [
      "0 [0.4796787] [0.12857157]\n",
      "20 [0.19452801] [0.2496171]\n",
      "40 [0.12435837] [0.28701714]\n",
      "60 [0.10627677] [0.29665452]\n",
      "80 [0.10161745] [0.29913792]\n",
      "100 [0.10041679] [0.29977787]\n",
      "120 [0.1001074] [0.29994276]\n",
      "140 [0.10002769] [0.29998526]\n",
      "160 [0.10000712] [0.29999623]\n",
      "180 [0.10000183] [0.29999903]\n"
     ]
    }
   ],
   "source": [
    "x_data = np.random.rand(100).astype(np.float32)# tensorflow中的数据大多是float32\n",
    "y_data = x_data * 0.1 + 0.3\n",
    "\n",
    "weight = tf.Variable(tf.random_uniform([1], -1, 1))\n",
    "biases = tf.Variable(tf.zeros([1]))\n",
    "\n",
    "y = weight * x_data + biases\n",
    "\n",
    "loss = tf.reduce_mean(tf.square(y_data-y)) # 意思是以mean的方式缩减tensor\n",
    "optimizer = tf.train.GradientDescentOptimizer(0.5) # 0.5是学习率\n",
    "train = optimizer.minimize(loss)\n",
    "\n",
    "init = tf.global_variables_initializer() # 首先是绘制结构，然后运算\n",
    "\n",
    "with tf.Session() as sess:\n",
    "    sess.run(init)\n",
    "    for step in range(200):\n",
    "        sess.run(train)\n",
    "        if step % 20 == 0:\n",
    "            print(step, sess.run(weight), sess.run(biases))"
   ]
  },
  {
   "cell_type": "code",
   "execution_count": null,
   "metadata": {},
   "outputs": [],
   "source": [
    "#placeholder 先定义变量的形状，类型，run时赋值\n",
    "a = [2]\n",
    "b = [3]\n",
    "\n",
    "input1 = tf.placeholder(tf.float32)\n",
    "input2 = tf.placeholder(tf.float32)\n",
    "\n",
    "output = tf.multiply(input1, input2)\n",
    "\n",
    "with tf.Session() as sess:\n",
    "    print(sess.run(output, feed_dict={input1: a, input2: b}))"
   ]
  },
  {
   "cell_type": "code",
   "execution_count": 58,
   "metadata": {
    "scrolled": true
   },
   "outputs": [
    {
     "data": {
      "image/png": "[encoded data removed]",
      "text/plain": [
       "<Figure size 432x288 with 1 Axes>"
      ]
     },
     "metadata": {
      "needs_background": "light"
     },
     "output_type": "display_data"
    },
    {
     "data": {
      "text/plain": [
       "array([[ 0.39214954,  0.38405398,  0.3759584 ,  0.36786285,  0.3597674 ,\n",
       "         0.3516718 ,  0.34357628,  0.33548078,  0.32738522,  0.31928954,\n",
       "         0.31119403,  0.30309865,  0.29500297,  0.28690758,  0.2788119 ,\n",
       "         0.27071646,  0.26262084,  0.25452533,  0.24642983,  0.23833427,\n",
       "         0.2302387 ,  0.2221432 ,  0.21404758,  0.20595214,  0.1978567 ,\n",
       "         0.18976107,  0.18166551,  0.17357   ,  0.1654745 ,  0.15737888,\n",
       "         0.14928338,  0.14118782,  0.13309225,  0.12499675,  0.11690125,\n",
       "         0.10880563,  0.10071012,  0.09261456,  0.08451906,  0.0764235 ,\n",
       "         0.06832805,  0.06023255,  0.05213681,  0.04404137,  0.03594586,\n",
       "         0.0278503 ,  0.01975477,  0.01165929,  0.00356367, -0.00453186,\n",
       "        -0.01262739, -0.0207229 , -0.02881846, -0.03691402, -0.04500952,\n",
       "        -0.05310512, -0.06120062, -0.06929609, -0.07739165, -0.08548725,\n",
       "        -0.09358275, -0.10167822, -0.10977381, -0.11786938, -0.12596491,\n",
       "        -0.13406047, -0.14215598, -0.15025148, -0.15834701, -0.16644257,\n",
       "        -0.1745381 , -0.18263367, -0.19072917, -0.1988247 , -0.20692025,\n",
       "        -0.2150158 , -0.22311135, -0.2312069 , -0.2393024 , -0.24739797,\n",
       "        -0.2554935 , -0.26358902, -0.27168453, -0.2797801 , -0.28736085,\n",
       "        -0.2948915 , -0.30242214, -0.30995268, -0.31748337, -0.325014  ,\n",
       "        -0.3325446 , -0.34007522, -0.34664422, -0.3528662 , -0.3590882 ,\n",
       "        -0.36531013, -0.37153217, -0.3777541 , -0.3839761 , -0.3901981 ,\n",
       "        -0.39642003, -0.402642  , -0.40886402, -0.415086  , -0.421308  ,\n",
       "        -0.42752996, -0.43375194, -0.4399739 , -0.4461959 , -0.45241785,\n",
       "        -0.45863986, -0.46486184, -0.4710838 , -0.4773058 , -0.48352775,\n",
       "        -0.48974973, -0.49597174, -0.50219375, -0.5084157 , -0.51463765,\n",
       "        -0.52085966, -0.52075815, -0.5184143 , -0.5160705 , -0.51372665,\n",
       "        -0.5113828 , -0.5090389 , -0.5066951 , -0.50435126, -0.5020074 ,\n",
       "        -0.49966356, -0.49731973, -0.49497586, -0.49263203, -0.4902882 ,\n",
       "        -0.48794433, -0.4856005 , -0.48325664, -0.4809128 , -0.47856894,\n",
       "        -0.4762251 , -0.47388127, -0.4715374 , -0.4734369 , -0.47800887,\n",
       "        -0.48114988, -0.48374662, -0.48634338, -0.48894012, -0.4915369 ,\n",
       "        -0.49413362, -0.4967304 , -0.49932712, -0.50192386, -0.50452065,\n",
       "        -0.5071174 , -0.5097141 , -0.51231086, -0.5149076 , -0.5175044 ,\n",
       "        -0.52010113, -0.5187607 , -0.51367337, -0.50859666, -0.50411946,\n",
       "        -0.49964225, -0.49516508, -0.49068788, -0.4862107 , -0.4817335 ,\n",
       "        -0.47725633, -0.47277912, -0.46830192, -0.46382475, -0.4596477 ,\n",
       "        -0.45633933, -0.4530309 , -0.44972253, -0.4464141 , -0.44310573,\n",
       "        -0.4397973 , -0.43648893, -0.43318057, -0.42987216, -0.42656377,\n",
       "        -0.42325535, -0.41994697, -0.41663858, -0.41333017, -0.4100218 ,\n",
       "        -0.4067134 , -0.403405  , -0.40009663, -0.39678824, -0.39347982,\n",
       "        -0.39017147, -0.38686305, -0.38355464, -0.38024625, -0.37693787,\n",
       "        -0.37362948, -0.3703211 , -0.36701268, -0.36370426, -0.3603959 ,\n",
       "        -0.35708752, -0.3537791 , -0.35047072, -0.34716234, -0.34385392,\n",
       "        -0.34054554, -0.33723712, -0.33392873, -0.33062038, -0.32731196,\n",
       "        -0.32400358, -0.32069516, -0.3173868 , -0.3140784 , -0.31077003,\n",
       "        -0.30746168, -0.3041532 , -0.30084485, -0.29753643, -0.29422808,\n",
       "        -0.29091963, -0.28761125, -0.28430283, -0.2749259 , -0.2644623 ,\n",
       "        -0.25399846, -0.24353479, -0.23307113, -0.22260748, -0.21214385,\n",
       "        -0.20168021, -0.19121641, -0.18075272, -0.17028907, -0.15982544,\n",
       "        -0.14936167, -0.13889799, -0.12843433, -0.11797065, -0.10750693,\n",
       "        -0.09704334, -0.08657962, -0.07611585, -0.06565222, -0.05518854,\n",
       "        -0.04472488, -0.03426126, -0.02379742, -0.01333377, -0.00287008,\n",
       "         0.00759351,  0.01805729,  0.02852088,  0.03898472,  0.04944828,\n",
       "         0.059912  ,  0.07037571,  0.08083925,  0.09130302,  0.10176674,\n",
       "         0.11223039,  0.12269393,  0.1331577 ,  0.14362136,  0.15408507,\n",
       "         0.16454878,  0.17501244,  0.18547603,  0.19593975,  0.2064034 ,\n",
       "         0.21686712,  0.2273309 ,  0.23779443,  0.2482582 ,  0.25872186,\n",
       "         0.2691857 ,  0.2796491 ,  0.29011294,  0.30057684,  0.31104037,\n",
       "         0.32150403,  0.3319678 ,  0.34243152,  0.352895  ,  0.3633587 ,\n",
       "         0.37382236,  0.38428608,  0.39474985,  0.40521356,  0.41567722,\n",
       "         0.4261407 ,  0.43660447,  0.4470683 ,  0.45753184,  0.46799567]],\n",
       "      dtype=float32)"
      ]
     },
     "execution_count": 58,
     "metadata": {},
     "output_type": "execute_result"
    }
   ],
   "source": [
    "def add_layer(inputs, in_size, out_size, activation_function=None):\n",
    "    weight = tf.Variable(tf.random_normal([in_size, out_size]))\n",
    "    biases = tf.Variable(tf.zeros([out_size, 1]) + 0.1)\n",
    "    weight_t = tf.matrix_transpose(weight)\n",
    "    wtx_plus_b = tf.matmul(weight_t, inputs) + biases\n",
    "    if activation_function == None:\n",
    "        return wtx_plus_b\n",
    "    else:\n",
    "        return activation_function(wtx_plus_b)\n",
    "\n",
    "x_data = np.linspace(-1, 1, 300).reshape(1, 300) #1个属性，300个样例\n",
    "noise = np.random.normal(0, 0.05, size=x_data.shape)\n",
    "y_data = np.square(x_data) - 0.5 + noise\n",
    "\n",
    "\n",
    "# plt.ion()\n",
    "# plt.show()\n",
    "\n",
    "xs = tf.placeholder(tf.float32, [1, None])\n",
    "ys = tf.placeholder(tf.float32, [1, None])\n",
    "\n",
    "l1 = add_layer(xs, 1, 10, activation_function=tf.nn.relu)\n",
    "prediction = add_layer(l1, 10, 1, activation_function=None)\n",
    "\n",
    "loss = tf.reduce_mean(tf.reduce_sum(tf.square(ys-prediction), reduction_indices=[0]))\n",
    "train_step = tf.train.GradientDescentOptimizer(0.1).minimize(loss)\n",
    "\n",
    "init = tf.global_variables_initializer()\n",
    "\n",
    "with tf.Session() as sess:\n",
    "    sess.run(init)\n",
    "    for i in range(1000):\n",
    "        sess.run(train_step, feed_dict={xs: x_data, ys: y_data})\n",
    "#        if i % 50 == 0:\n",
    "#             plt.figure()\n",
    "#             prediction_value = sess.run(prediction, feed_dict={xs: x_data})\n",
    "#             #print(prediction_value)\n",
    "#             plt.cla()\n",
    "#             plt.plot(x_data, prediction_value, 'r--', linewidth=5)\n",
    "#             plt.scatter(x_data, y_data, c='b')\n",
    "#             plt.pause(0.2)\n",
    "    prediction_value = sess.run(prediction, feed_dict={xs: x_data})\n",
    "plt.plot(x_data, prediction_value, 'r', linewidth=5)\n",
    "plt.show()\n",
    "prediction_value\n",
    "# plt.ioff()\n",
    "# plt.show()"
   ]
  },
  {
   "cell_type": "code",
   "execution_count": null,
   "metadata": {
    "scrolled": false
   },
   "outputs": [],
   "source": []
  }
 ],
 "metadata": {
  "kernelspec": {
   "display_name": "Python 3",
   "language": "python",
   "name": "python3"
  },
  "language_info": {
   "codemirror_mode": {
    "name": "ipython",
    "version": 3
   },
   "file_extension": ".py",
   "mimetype": "text/x-python",
   "name": "python",
   "nbconvert_exporter": "python",
   "pygments_lexer": "ipython3",
   "version": "3.7.3"
  }
 },
 "nbformat": 4,
 "nbformat_minor": 2
}
