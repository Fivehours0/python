{
 "cells": [
  {
   "cell_type": "code",
   "execution_count": 1,
   "metadata": {},
   "outputs": [
    {
     "data": {
      "text/plain": [
       "DecisionTreeClassifier(class_weight=None, criterion='gini', max_depth=2,\n",
       "            max_features=None, max_leaf_nodes=None,\n",
       "            min_impurity_decrease=0.0, min_impurity_split=None,\n",
       "            min_samples_leaf=1, min_samples_split=2,\n",
       "            min_weight_fraction_leaf=0.0, presort=False, random_state=None,\n",
       "            splitter='best')"
      ]
     },
     "execution_count": 1,
     "metadata": {},
     "output_type": "execute_result"
    }
   ],
   "source": [
    "import numpy as np\n",
    "import pandas as pd\n",
    "from sklearn.datasets import load_iris\n",
    "from sklearn.tree import DecisionTreeClassifier\n",
    "\n",
    "iris = load_iris()\n",
    "x = iris.data[:, 2:]\n",
    "y = iris.target\n",
    "tree_clf = DecisionTreeClassifier(max_depth=2)\n",
    "tree_clf.fit(x, y)"
   ]
  },
  {
   "cell_type": "code",
   "execution_count": 2,
   "metadata": {
    "scrolled": false
   },
   "outputs": [],
   "source": [
    "#dot -Tpng iris_tree.dot -o iris_tree.png 终端中输入, 将dot文件转换为png文件\n",
    "from sklearn.tree import export_graphviz    # 输出.dot图形文件，用graphviz软件可视化决策树\n",
    "export_graphviz(\n",
    "    tree_clf,\n",
    "    out_file=\"iris_tree.dot\", \n",
    "    feature_names=iris.feature_names[2:],\n",
    "    class_names=iris.target_names,  \n",
    "    rounded=True,  # 节点的框框边角是圆形的不是尖的\n",
    "    filled=True  # 对节点用颜色填充\n",
    ")"
   ]
  },
  {
   "cell_type": "code",
   "execution_count": 4,
   "metadata": {},
   "outputs": [
    {
     "data": {
      "text/plain": [
       "array([1])"
      ]
     },
     "execution_count": 4,
     "metadata": {},
     "output_type": "execute_result"
    }
   ],
   "source": [
    "'''决策树的众多特性之一就是, 它不需要太多的数据预处理, 尤其是不需要进行特征的缩放或者归一化。并且具有可解释性'''\n",
    "'''决策树还可以估计某个实例属于特定类它返回此节点中类k的概率:首先遍历树来查找此实例的叶节点,然后返回此节点中类k的训练实例的比例。如\n",
    "value=[0, 49, 5], 即按照该分类方法，分到该叶节点中的样例中有0朵类0花，49朵类1花，5朵类2花，则返回是类1花的概率v为49/54，为类2花\n",
    "的概率为5/54'''\n",
    "'''决策树对数据的变化非常敏感，在西瓜书中介绍有多变量决策树，解决了决策树分类边界轴平行所带来的困扰。因为多变量决策树的分类边界不再是\n",
    "轴平行，也可缓解决策树对于数据变化敏感的问题'''\n",
    "tree_clf.predict_proba([[5, 1.5]])  # 返回估计分类概率，如上所述，为类1花的概率49/54， 为类2花的概率为5/54\n",
    "tree_clf.predict([[5, 1.5]])  # 返回为类1花"
   ]
  },
  {
   "cell_type": "code",
   "execution_count": 6,
   "metadata": {},
   "outputs": [],
   "source": [
    "'''分类决策回归'''\n",
    "from sklearn.tree import DecisionTreeRegressor\n",
    "tree_reg = DecisionTreeRegressor()\n",
    "tree_reg.fit(x, y)"
   ]
  },
  {
   "cell_type": "code",
   "execution_count": 8,
   "metadata": {},
   "outputs": [
    {
     "data": {
      "image/png": "[encoded data removed]",
      "text/plain": [
       "<Figure size 432x288 with 1 Axes>"
      ]
     },
     "metadata": {
      "needs_background": "light"
     },
     "output_type": "display_data"
    }
   ],
   "source": [
    "import numpy as np\n",
    "import matplotlib.pyplot as plt\n",
    "from sklearn.tree import DecisionTreeRegressor\n",
    "from sklearn import linear_model\n",
    " \n",
    "# Data set\n",
    "x = np.array(list(range(1, 11))).reshape(-1, 1)\n",
    "y = np.array([5.56, 5.70, 5.91, 6.40, 6.80, 7.05, 8.90, 8.70, 9.00, 9.05]).ravel()\n",
    " \n",
    "# Fit regression model\n",
    "model1 = DecisionTreeRegressor(max_depth=1)\n",
    "model2 = DecisionTreeRegressor(max_depth=3)\n",
    "model3 = linear_model.LinearRegression()\n",
    "model1.fit(x, y)\n",
    "model2.fit(x, y)\n",
    "model3.fit(x, y)\n",
    " \n",
    "# Predict\n",
    "X_test = np.arange(0.0, 10.0, 0.01)[:, np.newaxis]\n",
    "y_1 = model1.predict(X_test)\n",
    "y_2 = model2.predict(X_test)\n",
    "y_3 = model3.predict(X_test)\n",
    " \n",
    "# Plot the results\n",
    "plt.figure()\n",
    "plt.scatter(x, y, s=20, edgecolor=\"black\",\n",
    "            c=\"darkorange\", label=\"data\")\n",
    "plt.plot(X_test, y_1, color=\"cornflowerblue\",\n",
    "         label=\"max_depth=1\", linewidth=2)\n",
    "plt.plot(X_test, y_2, color=\"yellowgreen\", label=\"max_depth=3\", linewidth=2)\n",
    "plt.plot(X_test, y_3, color='red', label='liner regression', linewidth=2)\n",
    "plt.xlabel(\"data\")\n",
    "plt.ylabel(\"target\")\n",
    "plt.title(\"Decision Tree Regression\")\n",
    "plt.legend()\n",
    "plt.show()"
   ]
  }
 ],
 "metadata": {
  "kernelspec": {
   "display_name": "Python 3",
   "language": "python",
   "name": "python3"
  },
  "language_info": {
   "codemirror_mode": {
    "name": "ipython",
    "version": 3
   },
   "file_extension": ".py",
   "mimetype": "text/x-python",
   "name": "python",
   "nbconvert_exporter": "python",
   "pygments_lexer": "ipython3",
   "version": "3.7.3"
  }
 },
 "nbformat": 4,
 "nbformat_minor": 2
}
