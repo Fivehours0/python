{
 "cells": [
  {
   "cell_type": "code",
   "execution_count": 2,
   "metadata": {},
   "outputs": [
    {
     "data": {
      "image/png": "[encoded data removed]",
      "text/plain": [
       "<Figure size 432x288 with 1 Axes>"
      ]
     },
     "metadata": {
      "needs_background": "light"
     },
     "output_type": "display_data"
    }
   ],
   "source": [
    "import numpy as np\n",
    "import pandas as pd\n",
    "import os\n",
    "import struct\n",
    "from sklearn.datasets import fetch_mldata\n",
    "from sklearn.metrics import accuracy_score\n",
    "import matplotlib.pyplot as plt\n",
    "from sklearn.preprocessing import StandardScaler\n",
    "\n",
    "path = os.path.join('/home/secret', 'datasets')\n",
    "def load_mnist(path, kind):\n",
    "    \"\"\"Load MNIST data from `path`\"\"\"\n",
    "    labels_path = os.path.join(path,\n",
    "                               '%s-labels.idx1-ubyte'\n",
    "                               % kind)\n",
    "    images_path = os.path.join(path,\n",
    "                               '%s-images.idx3-ubyte'\n",
    "                               % kind)\n",
    "    with open(labels_path, 'rb') as lbpath:\n",
    "        magic, n = struct.unpack('>II',\n",
    "                                 lbpath.read(8))\n",
    "        labels = np.fromfile(lbpath,\n",
    "                             dtype=np.uint8)\n",
    " \n",
    "    with open(images_path, 'rb') as imgpath:\n",
    "        magic, num, rows, cols = struct.unpack('>IIII',\n",
    "                                               imgpath.read(16))\n",
    "        images = np.fromfile(imgpath,\n",
    "                             dtype=np.uint8).reshape(len(labels), 784)\n",
    " \n",
    "    return images, labels\n",
    "train_images, train_labels = load_mnist(path, 'train')\n",
    "test_images, test_labels = load_mnist(path, 't10k')\n",
    "\n",
    "'''显示测试集中的一幅图像'''\n",
    "some_data = train_images[40000]\n",
    "some_data_image = some_data.reshape(28, 28)\n",
    "plt.imshow(some_data_image, cmap=plt.cm.binary, interpolation='nearest')  # interpolation差值\n",
    "plt.axis('off')  # 隐藏坐标轴\n",
    "plt.show()\n",
    "\n",
    "'''一些模型对数据的排序敏感，因此在训练之前先将数据的顺序打乱'''\n",
    "shuffle_train_index = np.random.permutation(60000)  # permutation排序\n",
    "x_train, y_train = train_images[shuffle_train_index], train_labels[shuffle_train_index]\n",
    "shuffle_test_index = np.random.permutation(10000)\n",
    "x_test, y_test = test_images[shuffle_test_index], test_labels[shuffle_test_index]\n",
    "x_train, x_test = x_train.T, x_test.T\n",
    "X_train = np.array(x_train, dtype=np.float64)\n",
    "X_test = np.array(x_test, dtype=np.float64)\n",
    "scaler = StandardScaler()\n",
    "X_train = scaler.fit_transform(X_train)\n",
    "X_test = scaler.fit_transform(X_test)\n",
    "\n",
    "def initial(tributes_num, output_num, sample_num):\n",
    "    #param: 属性数  输出类别数 样本数量\n",
    "    #output: 初始化的参数矩阵\n",
    "    count = 0\n",
    "    y_loss_parameters = np.zeros((output_num, sample_num))# 计算损失函数时用到的y矩阵\n",
    "    for value in y_train:\n",
    "        y_loss_parameters[value-1, count] = 1\n",
    "        count += 1\n",
    "    W = np.random.randn(tributes_num, output_num) / 100\n",
    "    return W, y_loss_parameters\n",
    "\n",
    "def softmax(y_pre_prob):\n",
    "    #param: 输出层神经元输出矩阵\n",
    "    #output: softmax函数输出\n",
    "    return np.exp(y_pre_prob) / np.sum(np.exp(y_pre_prob), axis=0)\n",
    "\n",
    "def propagate(W, X, y_loss_param, learning_rate, num_iteration):\n",
    "    #param: W参数矩阵 训练集矩阵\n",
    "    #output: 迭代后的W参数 cost\n",
    "    cost = []\n",
    "    for i in range(num_iteration):\n",
    "        Z = np.dot(W.T, X)\n",
    "        A = softmax(Z)\n",
    "        L = - y_loss_param * np.log(A)\n",
    "        cost.append(np.sum(L))\n",
    "        for j in range(X.shape[1]):   # shape[1]为样本数\n",
    "            A[np.nonzero(y_loss_param[:, j]!=0), j] -= 1\n",
    "        dw = np.dot(X, A.T)\n",
    "        W = W - learning_rate * dw\n",
    "        #print(dw)\n",
    "    return W, cost\n",
    "\n",
    "def predict(X, W):\n",
    "    #param: 训练集 W参数矩阵\n",
    "    #output: 预测值\n",
    "    Z = np.dot(W.T, X)\n",
    "    A = softmax(Z)\n",
    "    y_predict = np.argmax(A, axis=0) + 1\n",
    "    return y_predict"
   ]
  },
  {
   "cell_type": "code",
   "execution_count": 36,
   "metadata": {},
   "outputs": [],
   "source": [
    "W, y_loss_param = initial(X_train.shape[0], 10, X_train.shape[1])\n",
    "W, cost = propagate(W, X_train, y_loss_param, 0.000001, 200)"
   ]
  },
  {
   "cell_type": "code",
   "execution_count": 37,
   "metadata": {},
   "outputs": [
    {
     "data": {
      "image/png": "[encoded data removed]",
      "text/plain": [
       "<Figure size 432x288 with 1 Axes>"
      ]
     },
     "metadata": {
      "needs_background": "light"
     },
     "output_type": "display_data"
    },
    {
     "data": {
      "text/plain": [
       "0.8175"
      ]
     },
     "execution_count": 37,
     "metadata": {},
     "output_type": "execute_result"
    }
   ],
   "source": [
    "#绘制cost图像\n",
    "cost = np.array(cost)\n",
    "plt.figure()\n",
    "plt.plot(np.linspace(0, cost.shape, 200), cost)\n",
    "plt.title('cost')\n",
    "plt.show()\n",
    "accuracy_score(y_test, predict(X_test, W))"
   ]
  },
  {
   "cell_type": "code",
   "execution_count": null,
   "metadata": {},
   "outputs": [],
   "source": [
    "X_train = np.array(x_train, dtype=np.float64)\n",
    "X_test = np.array(x_test, dtype=np.float64)\n",
    "scaler = StandardScaler()\n",
    "X_train = scaler.fit_transform(X_train)\n",
    "X_test = scaler.fit_transform(X_test)\n",
    "X_train, X_test = X_train.T, X_test.T\n",
    "X_train"
   ]
  },
  {
   "cell_type": "code",
   "execution_count": null,
   "metadata": {},
   "outputs": [],
   "source": [
    "accuracy_score(y_train, predict((X_train), W))"
   ]
  },
  {
   "cell_type": "code",
   "execution_count": null,
   "metadata": {},
   "outputs": [],
   "source": [
    "ppxiaohui = np.array([[1, 0, 3],\n",
    "                      [4, 2, 3]])\n",
    "ppxiaohui1 = np.array([1, 0, 3])\n",
    "print(np.argmax(ppxiaohui, axis=0))"
   ]
  }
 ],
 "metadata": {
  "kernelspec": {
   "display_name": "Python 3",
   "language": "python",
   "name": "python3"
  },
  "language_info": {
   "codemirror_mode": {
    "name": "ipython",
    "version": 3
   },
   "file_extension": ".py",
   "mimetype": "text/x-python",
   "name": "python",
   "nbconvert_exporter": "python",
   "pygments_lexer": "ipython3",
   "version": "3.7.3"
  }
 },
 "nbformat": 4,
 "nbformat_minor": 2
}
