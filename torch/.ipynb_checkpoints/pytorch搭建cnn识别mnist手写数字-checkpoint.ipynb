{
 "cells": [
  {
   "cell_type": "markdown",
   "metadata": {},
   "source": [
    "pytorch对变量的维度要求很高，例如(30, 28, 28)30张28x28的图像，需要将其拓展为(30, 1, 28, 28),对于图片来说还包含了'厚度'，因此需要\n",
    "拓展1维，#The math of Linear: `y = xA^T + b`  因此在torch.nn.Linear中一行代表一个样例，而不是在课程中所学的一列代表一个样例。\n",
    "因此在设计变量维度时，需要注意其数学形式"
   ]
  },
  {
   "cell_type": "code",
   "execution_count": 1,
   "metadata": {},
   "outputs": [],
   "source": [
    "import torch\n",
    "import torchvision\n",
    "import torch.nn.functional as F   \n",
    "import torch.utils.data as Data # 小批量学习\n",
    "import matplotlib.pyplot as plt\n",
    "import numpy as np\n",
    "import os\n",
    "import struct"
   ]
  },
  {
   "cell_type": "code",
   "execution_count": 2,
   "metadata": {},
   "outputs": [],
   "source": [
    "'''加载数据'''\n",
    "path = os.path.join(os.getcwd(), 'datasets')\n",
    "def load_mnist(path, kind):\n",
    "    \"\"\"Load MNIST data from `path`\"\"\"\n",
    "    labels_path = os.path.join(path,\n",
    "                               '%s-labels.idx1-ubyte'\n",
    "                               % kind)\n",
    "    images_path = os.path.join(path,\n",
    "                               '%s-images.idx3-ubyte'\n",
    "                               % kind)\n",
    "    with open(labels_path, 'rb') as lbpath:\n",
    "        magic, n = struct.unpack('>II',\n",
    "                                 lbpath.read(8))\n",
    "        labels = np.fromfile(lbpath,\n",
    "                             dtype=np.uint8)\n",
    " \n",
    "    with open(images_path, 'rb') as imgpath:\n",
    "        magic, num, rows, cols = struct.unpack('>IIII',\n",
    "                                               imgpath.read(16))\n",
    "        images = np.fromfile(imgpath,\n",
    "                             dtype=np.uint8).reshape(len(labels), 784)\n",
    " \n",
    "    return images, labels\n",
    "train_images, train_labels = load_mnist(path, 'train')\n",
    "test_images, test_labels = load_mnist(path, 't10k')"
   ]
  },
  {
   "cell_type": "code",
   "execution_count": 3,
   "metadata": {},
   "outputs": [
    {
     "data": {
      "text/plain": [
       "<Figure size 432x288 with 0 Axes>"
      ]
     },
     "metadata": {},
     "output_type": "display_data"
    },
    {
     "data": {
      "image/png": "[encoded data removed]",
      "text/plain": [
       "<Figure size 288x288 with 1 Axes>"
      ]
     },
     "metadata": {
      "needs_background": "light"
     },
     "output_type": "display_data"
    }
   ],
   "source": [
    "#hyper parameters\n",
    "EPOCH = 1\n",
    "LR = 0.001\n",
    "BATCH_SIZE = 50\n",
    "\n",
    "plt.figure()\n",
    "plt.matshow(train_images[0].reshape(28, 28), cmap='gray')\n",
    "plt.title('the label is %i'%train_labels[0],)\n",
    "plt.axis('off')\n",
    "plt.show()\n",
    "\n",
    "'''小批量学习'''\n",
    "train_images = train_images.reshape(60000, 28, 28) / 255 \n",
    "train_images = torch.unsqueeze(torch.Tensor(train_images), dim=1)\n",
    "train_labels = torch.Tensor(train_labels)\n",
    "train_labels = train_labels.type(torch.long)\n",
    "tensor_data = Data.TensorDataset(train_images, train_labels)\n",
    "loader = Data.DataLoader(tensor_data, batch_size=BATCH_SIZE, shuffle=True, )"
   ]
  },
  {
   "cell_type": "code",
   "execution_count": 4,
   "metadata": {},
   "outputs": [
    {
     "ename": "NameError",
     "evalue": "name 'LR' is not defined",
     "output_type": "error",
     "traceback": [
      "\u001b[0;31m---------------------------------------------------------------------------\u001b[0m",
      "\u001b[0;31mNameError\u001b[0m                                 Traceback (most recent call last)",
      "\u001b[0;32m<ipython-input-4-6c870c8a3106>\u001b[0m in \u001b[0;36m<module>\u001b[0;34m\u001b[0m\n\u001b[1;32m     29\u001b[0m \u001b[0;34m\u001b[0m\u001b[0m\n\u001b[1;32m     30\u001b[0m \u001b[0mcnn\u001b[0m \u001b[0;34m=\u001b[0m \u001b[0mCNN\u001b[0m\u001b[0;34m(\u001b[0m\u001b[0;34m)\u001b[0m\u001b[0;34m\u001b[0m\u001b[0;34m\u001b[0m\u001b[0m\n\u001b[0;32m---> 31\u001b[0;31m \u001b[0moptimizer\u001b[0m \u001b[0;34m=\u001b[0m \u001b[0mtorch\u001b[0m\u001b[0;34m.\u001b[0m\u001b[0moptim\u001b[0m\u001b[0;34m.\u001b[0m\u001b[0mAdam\u001b[0m\u001b[0;34m(\u001b[0m\u001b[0mcnn\u001b[0m\u001b[0;34m.\u001b[0m\u001b[0mparameters\u001b[0m\u001b[0;34m(\u001b[0m\u001b[0;34m)\u001b[0m\u001b[0;34m,\u001b[0m \u001b[0mlr\u001b[0m\u001b[0;34m=\u001b[0m\u001b[0mLR\u001b[0m\u001b[0;34m)\u001b[0m\u001b[0;34m\u001b[0m\u001b[0;34m\u001b[0m\u001b[0m\n\u001b[0m\u001b[1;32m     32\u001b[0m \u001b[0mloss_func\u001b[0m \u001b[0;34m=\u001b[0m \u001b[0mtorch\u001b[0m\u001b[0;34m.\u001b[0m\u001b[0mnn\u001b[0m\u001b[0;34m.\u001b[0m\u001b[0mCrossEntropyLoss\u001b[0m\u001b[0;34m(\u001b[0m\u001b[0;34m)\u001b[0m\u001b[0;34m\u001b[0m\u001b[0;34m\u001b[0m\u001b[0m\n\u001b[1;32m     33\u001b[0m \u001b[0mloss_arr\u001b[0m \u001b[0;34m=\u001b[0m \u001b[0;34m[\u001b[0m\u001b[0;34m]\u001b[0m\u001b[0;34m\u001b[0m\u001b[0;34m\u001b[0m\u001b[0m\n",
      "\u001b[0;31mNameError\u001b[0m: name 'LR' is not defined"
     ]
    }
   ],
   "source": [
    "'''卷积网络搭建'''\n",
    "class CNN(torch.nn.Module):\n",
    "    def __init__(self):\n",
    "        super(CNN, self).__init__()\n",
    "        # ->(1, 28, 28)\n",
    "        self.conv1 = torch.nn.Sequential(\n",
    "            torch.nn.Conv2d(\n",
    "                in_channels=1, # 图片的'厚度'为1\n",
    "                out_channels=16, # number of filters\n",
    "                kernel_size=5,# 核大小\n",
    "                stride=1,# 步长\n",
    "                padding=2\n",
    "            ),  #2d表示图片的维度是2维的\n",
    "            torch.nn.ReLU(),\n",
    "            torch.nn.MaxPool2d(kernel_size=2)\n",
    "        )# ->(16, 14, 14)\n",
    "        self.conv2 = torch.nn.Sequential(\n",
    "            torch.nn.Conv2d(16, 32, 5, 1, 2),\n",
    "            torch.nn.ReLU(),\n",
    "            torch.nn.MaxPool2d(kernel_size=2)\n",
    "        ) # ->(32, 7, 7)\n",
    "        self.out = torch.nn.Linear(32*7*7, 10)# 一个样例输出10个，一个样例一行\n",
    "    def forward(self, x):\n",
    "        x = self.conv1(x)\n",
    "        x = self.conv2(x) # ->(batch, 37, 7, 7)\n",
    "        x = x.view(x.size()[0], -1)\n",
    "        output = self.out(x)\n",
    "        return output\n",
    "\n",
    "cnn = CNN()    \n",
    "optimizer = torch.optim.Adam(cnn.parameters(), lr=LR)\n",
    "loss_func = torch.nn.CrossEntropyLoss()\n",
    "loss_arr = []\n",
    "for step, (x_train_batch, y_train_batch) in enumerate(loader):\n",
    "    output = cnn(x_train_batch)\n",
    "    optimizer.zero_grad()\n",
    "    loss = loss_func(output, y_train_batch)\n",
    "    loss_arr.append(loss)\n",
    "    loss.backward()\n",
    "    optimizer.step()\n",
    "torch.save(cnn.state_dict(), 'cnn-params.pkl')"
   ]
  },
  {
   "cell_type": "code",
   "execution_count": 4,
   "metadata": {},
   "outputs": [],
   "source": [
    "class CNN(torch.nn.Module):\n",
    "    def __init__(self):\n",
    "        super(CNN, self).__init__()\n",
    "        # ->(1, 28, 28)\n",
    "        self.conv1 = torch.nn.Sequential(\n",
    "            torch.nn.Conv2d(\n",
    "                in_channels=1, # 图片的'厚度'为1\n",
    "                out_channels=16, # number of filters\n",
    "                kernel_size=5,# 核大小\n",
    "                stride=1,# 步长\n",
    "                padding=2\n",
    "            ),  #2d表示图片的维度是2维的\n",
    "            torch.nn.ReLU(),\n",
    "            torch.nn.MaxPool2d(kernel_size=2)\n",
    "        )# ->(16, 14, 14)\n",
    "        self.conv2 = torch.nn.Sequential(\n",
    "            torch.nn.Conv2d(16, 32, 5, 1, 2),\n",
    "            torch.nn.ReLU(),\n",
    "            torch.nn.MaxPool2d(kernel_size=2)\n",
    "        ) # ->(32, 7, 7)\n",
    "        self.out = torch.nn.Linear(32*7*7, 10)# 一个样例输出10个，一个样例一行\n",
    "    def forward(self, x):\n",
    "        x = self.conv1(x)\n",
    "        x = self.conv2(x) # ->(batch, 37, 7, 7)\n",
    "        x = x.view(x.size()[0], -1)\n",
    "        output = self.out(x)\n",
    "        return output\n",
    "cnn = CNN()\n",
    "cnn.load_state_dict(torch.load('cnn-params.pkl'))\n",
    "y_prediction = cnn(train_images[:20000])# 同时预测60000张会爆内存"
   ]
  },
  {
   "cell_type": "code",
   "execution_count": 5,
   "metadata": {},
   "outputs": [],
   "source": [
    "soft = torch.nn.Softmax(dim=1)\n",
    "y_prediction = soft(y_prediction)"
   ]
  },
  {
   "cell_type": "code",
   "execution_count": 6,
   "metadata": {},
   "outputs": [
    {
     "data": {
      "text/plain": [
       "tensor(0.9815)"
      ]
     },
     "execution_count": 6,
     "metadata": {},
     "output_type": "execute_result"
    }
   ],
   "source": [
    "y_pre_lable = y_prediction.max(dim=1)[1]\n",
    "torch.sum(y_pre_lable==train_labels[:20000]).type(torch.float) / 20000 "
   ]
  }
 ],
 "metadata": {
  "kernelspec": {
   "display_name": "Python 3",
   "language": "python",
   "name": "python3"
  },
  "language_info": {
   "codemirror_mode": {
    "name": "ipython",
    "version": 3
   },
   "file_extension": ".py",
   "mimetype": "text/x-python",
   "name": "python",
   "nbconvert_exporter": "python",
   "pygments_lexer": "ipython3",
   "version": "3.7.3"
  }
 },
 "nbformat": 4,
 "nbformat_minor": 2
}
