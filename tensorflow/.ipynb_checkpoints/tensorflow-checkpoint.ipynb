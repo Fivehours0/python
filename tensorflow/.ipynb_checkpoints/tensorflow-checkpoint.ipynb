{
 "cells": [
  {
   "cell_type": "markdown",
   "metadata": {},
   "source": [
    "       对于分类任务的输出层，激活函数最好不要设置为relu(可以直接使用softmax)，因为对于小于0的输出其直接最小化为0，在交叉熵的计算中log(0)会出现问题，对于回归任务，可以完全不使用激活函数\n",
    "       您可以尝试逐渐增加神经元的数量和隐层层数,直到网络开始过度拟合，来确定层数和神经元个数等超参数\n",
    "       如果测试集的精度过低，则可能是模型过拟合造成的，可增加样本的数量和降低模型的复杂度"
   ]
  },
  {
   "cell_type": "code",
   "execution_count": 1,
   "metadata": {},
   "outputs": [],
   "source": [
    "import tensorflow as tf\n",
    "import numpy as np\n",
    "import matplotlib.pyplot as plt\n",
    "import matplotlib\n",
    "%matplotlib qt5"
   ]
  },
  {
   "cell_type": "code",
   "execution_count": null,
   "metadata": {
    "collapsed": true
   },
   "outputs": [],
   "source": [
    "'''简单的回归(一次函数)'''\n",
    "x_data = np.random.rand(100).astype(np.float32)# tensorflow中的数据大多是float32\n",
    "y_data = x_data * 0.1 + 0.3\n",
    "\n",
    "weight = tf.Variable(tf.random_uniform([1], -1, 1))\n",
    "biases = tf.Variable(tf.zeros([1]))\n",
    "\n",
    "y = weight * x_data + biases\n",
    "\n",
    "loss = tf.reduce_mean(tf.square(y_data-y)) # 意思是以mean的方式缩减tensor\n",
    "optimizer = tf.train.GradientDescentOptimizer(0.5) # 0.5是学习率\n",
    "train = optimizer.minimize(loss)\n",
    "\n",
    "init = tf.global_variables_initializer() # 首先是绘制结构，然后运算\n",
    "\n",
    "with tf.Session() as sess:\n",
    "    sess.run(init)\n",
    "    for step in range(200):\n",
    "        sess.run(train)\n",
    "        if step % 20 == 0:\n",
    "            print(step, sess.run(weight), sess.run(biases))"
   ]
  },
  {
   "cell_type": "code",
   "execution_count": null,
   "metadata": {},
   "outputs": [],
   "source": [
    "'''placeholder 先定义变量的形状，类型，run时赋值'''\n",
    "a = [2]\n",
    "b = [3]\n",
    "\n",
    "input1 = tf.placeholder(tf.float32)\n",
    "input2 = tf.placeholder(tf.float32)\n",
    "\n",
    "output = tf.multiply(input1, input2)\n",
    "\n",
    "with tf.Session() as sess:\n",
    "    print(sess.run(output, feed_dict={input1: a, input2: b}))"
   ]
  },
  {
   "cell_type": "code",
   "execution_count": null,
   "metadata": {
    "scrolled": true
   },
   "outputs": [],
   "source": [
    "'''简单的回归例子(二次函数) + tensorboard可视化功能'''\n",
    "'''name_scope  tf.summary.FileWriter是绘制结构图时用到的'''\n",
    "'''tf.summary.histogram  tf.summary.scalar  tf.summary.merge_all绘制变量变化图时用到的'''\n",
    "def add_layer(inputs, in_size, out_size, serial_num_layer, activation_function=None):\n",
    "    layer_name = \"layer%s\" %serial_num_layer\n",
    "    with tf.name_scope(layer_name):\n",
    "        with tf.name_scope('weight'):\n",
    "            weight = tf.Variable(tf.random_normal([in_size, out_size]), name='W')\n",
    "            tf.summary.histogram(layer_name+'/weight', weight) #　W为一个矩阵，histogram以分布的形式可视化，tensorboard\n",
    "        with tf.name_scope('biases'):\n",
    "            biases = tf.Variable(tf.zeros([out_size, 1]), name='b')\n",
    "            tf.summary.histogram(layer_name+'/biases', biases)#　W为一个矩阵，histogram以分布的形式可视化，tensorboard\n",
    "        weight_t = tf.matrix_transpose(weight)\n",
    "        with tf.name_scope('wtx_plus_b'):\n",
    "            wtx_plus_b = tf.matmul(weight_t, inputs) + biases\n",
    "        if activation_function == None:\n",
    "            return wtx_plus_b\n",
    "        else:\n",
    "            return activation_function(wtx_plus_b)\n",
    "\n",
    "x_data = np.linspace(-1, 1, 300).reshape(1, 300) #1个属性，300个样例\n",
    "noise = np.random.normal(0, 0.05, size=x_data.shape)\n",
    "y_data = np.square(x_data) - 0.5 + noise\n",
    "\n",
    "tf.reset_default_graph()\n",
    "\n",
    "plt.ion()# 可视化\n",
    "\n",
    "with tf.name_scope('inputs'):\n",
    "    xs = tf.placeholder(tf.float32, [1, None], name='x_input')\n",
    "    ys = tf.placeholder(tf.float32, [1, None], name='y_input')\n",
    "\n",
    "l1 = add_layer(xs, 1, 10, serial_num_layer=1, activation_function=tf.nn.relu)\n",
    "prediction = add_layer(l1, 10, 1, serial_num_layer=2, activation_function=None)\n",
    "\n",
    "with tf.name_scope('loss'):# 相当于是名称空间\n",
    "    loss = tf.reduce_mean(tf.reduce_sum(tf.square(ys-prediction), reduction_indices=[0])) # 计算损失\n",
    "    tf.summary.scalar('loss', loss) #scalar为以曲线的形式可视化，tensorboard\n",
    "with tf.name_scope('train'):\n",
    "    train_step = tf.train.GradientDescentOptimizer(0.1).minimize(loss) # 梯度下降\n",
    "    \n",
    "init = tf.global_variables_initializer()\n",
    "with tf.Session() as sess:\n",
    "    merged = tf.summary.merge_all() # tensorboard  在logs目录所在的位置打开终端，输入tensorboard --logdir=logs/\n",
    "    writer = tf.summary.FileWriter('logs/', sess.graph) # 保存于logs文件夹。tensorboard write\n",
    "    sess.run(init)\n",
    "    for i in range(1000):\n",
    "        sess.run(train_step, feed_dict={xs: x_data, ys: y_data})\n",
    "        #可视化 start\n",
    "        if i % 50 == 0:\n",
    "            loss_value, result = sess.run([loss, merged], feed_dict={xs: x_data, ys: y_data}) # tensorboard\n",
    "            writer.add_summary(result, i) # tensorboard\n",
    "            plt.cla()\n",
    "            print(loss_value)\n",
    "            #print(sess.run(loss, feed_dict={xs: x_data, ys: y_data})) # 输出loss\n",
    "            prediction_value = sess.run(prediction, feed_dict={xs: x_data})\n",
    "            plt.scatter(x_data, prediction_value, c='r')\n",
    "            plt.scatter(x_data, y_data, c='b', alpha=0.4)\n",
    "            plt.pause(0.2)\n",
    "        #可视化 end\n",
    "plt.ioff()"
   ]
  },
  {
   "cell_type": "code",
   "execution_count": null,
   "metadata": {},
   "outputs": [],
   "source": [
    "'''管理图谱'''\n",
    "x1 = tf.Variable(1)\n",
    "x1.graph is tf.get_default_graph() # 返回True，x1位于默认图谱中\n",
    "graph = tf.Graph() # 创建以个新的图谱\n",
    "with graph.as_default(): # 将新创建的图谱暂时设置为默认图谱\n",
    "    x2 = tf.Variable(2)\n",
    "x2.graph is tf.get_default_graph() # 返回false, x2位于新创建的graph图谱中\n",
    "x2.graph is graph # 返回True"
   ]
  },
  {
   "cell_type": "code",
   "execution_count": null,
   "metadata": {},
   "outputs": [],
   "source": [
    "# y_val, z_val = sess.run([y, z]) 可以进行这样的操作"
   ]
  },
  {
   "cell_type": "code",
   "execution_count": null,
   "metadata": {},
   "outputs": [],
   "source": [
    "'''保存和恢复模型'''\n",
    "# remember to define the same dtype and shape when restore\n",
    "import tensorflow as tf\n",
    "W = tf.Variable([[1, 2, 3], [3, 4, 5]], dtype=tf.float32, name=\"weight\")\n",
    "b = tf.Variable([[1, 2, 3]], dtype=tf.float32, name=\"biases\")\n",
    "saver = tf.train.Saver()\n",
    "with tf.Session() as sess:\n",
    "    sess.run(tf.global_variables_initializer())\n",
    "    save_path = saver.save(sess, \"my_net/save_net.ckpt\") # 保存在my_net文件夹下\n",
    "    print(\"Save_path:\", save_path)"
   ]
  },
  {
   "cell_type": "code",
   "execution_count": null,
   "metadata": {},
   "outputs": [],
   "source": [
    "'''恢复模型'''\n",
    "import tensorflow as tf\n",
    "# restore variables #\n",
    "# redefine the same shape and same dtype for your variable # \n",
    "# it will save the value of variable, you should redefine the structure of variable and network #\n",
    "W = tf.Variable(tf.zeros([2, 3]), dtype=tf.float32, name=\"weight\")\n",
    "b = tf.Variable(tf.zeros([1, 3]), dtype=tf.float32, name=\"biases\")\n",
    "# not need initial step #\n",
    "saver = tf.train.Saver()\n",
    "with tf.Session() as sess:\n",
    "    saver.restore(sess, \"my_net/save_net.ckpt\")\n",
    "    print(\"weight:\", W.eval())\n",
    "    print(\"biases:\", b.eval())"
   ]
  },
  {
   "cell_type": "code",
   "execution_count": null,
   "metadata": {},
   "outputs": [],
   "source": [
    "#共享变量p224(sklearn和tensorflow机器学习实用指南)"
   ]
  },
  {
   "cell_type": "code",
   "execution_count": 60,
   "metadata": {
    "scrolled": true
   },
   "outputs": [
    {
     "name": "stdout",
     "output_type": "stream",
     "text": [
      "0.36666667\n",
      "0.3\n",
      "0.46666667\n",
      "0.36666667\n",
      "0.36666667\n",
      "0.7\n",
      "0.7\n",
      "0.7\n",
      "0.73333335\n",
      "0.8\n",
      "0.8333333\n",
      "0.9\n",
      "0.96666664\n",
      "0.96666664\n",
      "0.96666664\n",
      "0.96666664\n",
      "0.96666664\n",
      "0.96666664\n",
      "0.96666664\n",
      "0.96666664\n"
     ]
    },
    {
     "data": {
      "image/png": "[encoded data removed]",
      "text/plain": [
       "<Figure size 432x288 with 1 Axes>"
      ]
     },
     "metadata": {
      "needs_background": "light"
     },
     "output_type": "display_data"
    }
   ],
   "source": [
    "'''dropout随机失活, dropout添加在add_layer中'''\n",
    "'''使用tensorflow的API来实现全连接和交叉熵'''\n",
    "import numpy as np\n",
    "import tensorflow as tf\n",
    "from sklearn.datasets import load_iris\n",
    "from sklearn.model_selection import train_test_split\n",
    "from sklearn.preprocessing import LabelBinarizer\n",
    "\n",
    "# load data start #\n",
    "iris_data = load_iris()\n",
    "x = iris_data.data\n",
    "y = iris_data.target\n",
    "y = LabelBinarizer().fit_transform(y) # 将label转换为onehot编码\n",
    "x_train, x_test, y_train, y_test = train_test_split(x, y, test_size=0.2, random_state=42)\n",
    "# load data end # \n",
    "N_SAMPLE = x_train.shape[0]\n",
    "N_ATTRIBUTE = x_train.shape[1]\n",
    "N_OUTPUT = 3\n",
    "N_BATCH = 2 # 批次数\n",
    "N_BATCH_SAMPLR = int(np.ceil(N_SAMPLE / N_BATCH)) # 每批样本的数目, ceil向上取整\n",
    "KEEP_PROB = 0\n",
    "#全连接层\n",
    "#对于x，样本为数为行，属性数为列。\n",
    "# y = xw + b\n",
    "def add_layer(inputs, in_size, out_size, activation_function=None):\n",
    "    weight = tf.Variable(tf.random_normal([in_size, out_size]) / 100)\n",
    "    biases = tf.Variable(tf.zeros([1, out_size]))\n",
    "    xw_plus_b = tf.matmul(inputs, weight) + biases\n",
    "    xw_plus_b = tf.nn.dropout(xw_plus_b, rate=keep_prob)\n",
    "    if activation_function == None:\n",
    "        return xw_plus_b\n",
    "    else:\n",
    "        if activation_function == tf.nn.softmax:\n",
    "            return activation_function(xw_plus_b, axis=1)\n",
    "        else:\n",
    "            return activation_function(xw_plus_b)\n",
    "\n",
    "def compute_accuracy(v_xs, v_ys):\n",
    "    global prediction\n",
    "    y_pre = sess.run(prediction, feed_dict={xs: v_xs, keep_prob: KEEP_PROB})\n",
    "    correct_prediction = tf.equal(tf.argmax(y_pre, 1), tf.argmax(v_ys, 1))\n",
    "    accuracy = tf.reduce_mean(tf.cast(correct_prediction, tf.float32))\n",
    "    result = sess.run(accuracy, feed_dict={xs: v_xs, ys: v_ys, keep_prob: KEEP_PROB})\n",
    "    return result\n",
    "        \n",
    "#placeholder\n",
    "xs = tf.placeholder(tf.float32, [None, N_ATTRIBUTE])\n",
    "ys = tf.placeholder(tf.float32, [None, N_OUTPUT])\n",
    "keep_prob = tf.placeholder(tf.float32) # 随机失活dropout的参数\n",
    "\n",
    "accuracy_array_train = [] # 保存cross_entropy(损失)用以绘制图像\n",
    "accuracy_array_test = [] \n",
    "\n",
    "# layer # \n",
    "'''start 调用API的全连接层'''\n",
    "'''对于w的初始化,使用具有标准差为2/√n。它将被随机初的截断的正态(高斯)分布truncated_normal(使用截断的正态分布而不是\n",
    "常规正态分布确保不会有任何大的权重,这可能会减慢训练。).使用这个特定的标准差有助于算法的收敛速度更快'''\n",
    "# layer1 = tf.contrib.layers.fully_connected(\n",
    "#     xs, 20, activation_fn=tf.nn.relu, \n",
    "#     weights_initializer=tf.initializers.truncated_normal(stddev=2 / np.sqrt(N_SAMPLE)))\n",
    "# '''注意输出层无激活函数'''\n",
    "# prediction = tf.contrib.layers.fully_connected(\n",
    "#     layer1, N_OUTPUT, activation_fn=None, \n",
    "#     weights_initializer=tf.initializers.truncated_normal(stddev=2 / np.sqrt(N_SAMPLE)))\n",
    "# cross_entropy = tf.reduce_mean(tf.nn.softmax_cross_entropy_with_logits_v2(labels=ys, logits=prediction))\n",
    "'''end 调用API的全连接层'''\n",
    "\n",
    "'''没有调用API的全连接层  start'''\n",
    "layer1 = add_layer(xs, N_ATTRIBUTE, 20, activation_function=tf.nn.relu)\n",
    "prediction = add_layer(layer1, 20, N_OUTPUT, activation_function=tf.nn.softmax)\n",
    "\n",
    "# loss\n",
    "# 先sum在mean时除数为sum之后的个数， 如果只有mean则为所有数的个数\n",
    "cross_entropy = tf.reduce_mean(-tf.reduce_sum(ys*tf.log(prediction), reduction_indices=1))\n",
    "'''没有调用API的全连接层  end'''\n",
    "\n",
    "train_step = tf.train.GradientDescentOptimizer(0.07).minimize(cross_entropy)\n",
    "\n",
    "with tf.Session() as sess:\n",
    "    sess.run(tf.global_variables_initializer())\n",
    "    for i in range(200):\n",
    "        batch_xs = x_train\n",
    "        batch_ys = y_train\n",
    "        sess.run(train_step, feed_dict={xs: batch_xs, ys: batch_ys, keep_prob: KEEP_PROB})\n",
    "        if i % 10 == 0:\n",
    "#             print(sess.run(cross_entropy, feed_dict={xs: batch_xs, ys: batch_ys, keep_prob: 0.3}))\n",
    "            print(compute_accuracy(x_test, y_test))\n",
    "            accuracy_array_train.append(compute_accuracy(x_train, y_train))\n",
    "            accuracy_array_test.append(compute_accuracy(x_test, y_test))           \n",
    "'''可视化cross_entropy'''\n",
    "#cross_entropy_array = np.array(cross_entropy_array)\n",
    "plot_x = np.arange(20)\n",
    "plt.figure()\n",
    "plt.plot(plot_x, accuracy_array_train, 'r-', label='train', )\n",
    "plt.plot(plot_x, accuracy_array_test, 'k--', label='test',)\n",
    "plt.legend(loc='best')\n",
    "plt.show()"
   ]
  },
  {
   "cell_type": "code",
   "execution_count": 3,
   "metadata": {},
   "outputs": [
    {
     "ename": "TypeError",
     "evalue": "fully_connected() missing 2 required positional arguments: 'inputs' and 'num_outputs'",
     "output_type": "error",
     "traceback": [
      "\u001b[0;31m---------------------------------------------------------------------------\u001b[0m",
      "\u001b[0;31mTypeError\u001b[0m                                 Traceback (most recent call last)",
      "\u001b[0;32m<ipython-input-3-c1f74f66b5e8>\u001b[0m in \u001b[0;36m<module>\u001b[0;34m\u001b[0m\n\u001b[1;32m     18\u001b[0m '''对于w的初始化,使用具有标准差为2/√n。它将被随机初的截断的正态(高斯)分布truncated_normal(使用截断的正态分布而不是\n\u001b[1;32m     19\u001b[0m 常规正态分布确保不会有任何大的权重,这可能会减慢训练。).使用这个特定的标准差有助于算法的收敛速度更快'''\n\u001b[0;32m---> 20\u001b[0;31m \u001b[0mtf\u001b[0m\u001b[0;34m.\u001b[0m\u001b[0mcontrib\u001b[0m\u001b[0;34m.\u001b[0m\u001b[0mlayers\u001b[0m\u001b[0;34m.\u001b[0m\u001b[0mfully_connected\u001b[0m\u001b[0;34m(\u001b[0m\u001b[0;34m)\u001b[0m\u001b[0;34m\u001b[0m\u001b[0;34m\u001b[0m\u001b[0m\n\u001b[0m",
      "\u001b[0;32m~/anaconda3/lib/python3.7/site-packages/tensorflow/contrib/framework/python/ops/arg_scope.py\u001b[0m in \u001b[0;36mfunc_with_args\u001b[0;34m(*args, **kwargs)\u001b[0m\n\u001b[1;32m    180\u001b[0m       \u001b[0mcurrent_args\u001b[0m \u001b[0;34m=\u001b[0m \u001b[0mcurrent_scope\u001b[0m\u001b[0;34m[\u001b[0m\u001b[0mkey_func\u001b[0m\u001b[0;34m]\u001b[0m\u001b[0;34m.\u001b[0m\u001b[0mcopy\u001b[0m\u001b[0;34m(\u001b[0m\u001b[0;34m)\u001b[0m\u001b[0;34m\u001b[0m\u001b[0;34m\u001b[0m\u001b[0m\n\u001b[1;32m    181\u001b[0m       \u001b[0mcurrent_args\u001b[0m\u001b[0;34m.\u001b[0m\u001b[0mupdate\u001b[0m\u001b[0;34m(\u001b[0m\u001b[0mkwargs\u001b[0m\u001b[0;34m)\u001b[0m\u001b[0;34m\u001b[0m\u001b[0;34m\u001b[0m\u001b[0m\n\u001b[0;32m--> 182\u001b[0;31m     \u001b[0;32mreturn\u001b[0m \u001b[0mfunc\u001b[0m\u001b[0;34m(\u001b[0m\u001b[0;34m*\u001b[0m\u001b[0margs\u001b[0m\u001b[0;34m,\u001b[0m \u001b[0;34m**\u001b[0m\u001b[0mcurrent_args\u001b[0m\u001b[0;34m)\u001b[0m\u001b[0;34m\u001b[0m\u001b[0;34m\u001b[0m\u001b[0m\n\u001b[0m\u001b[1;32m    183\u001b[0m \u001b[0;34m\u001b[0m\u001b[0m\n\u001b[1;32m    184\u001b[0m   \u001b[0m_add_op\u001b[0m\u001b[0;34m(\u001b[0m\u001b[0mfunc\u001b[0m\u001b[0;34m)\u001b[0m\u001b[0;34m\u001b[0m\u001b[0;34m\u001b[0m\u001b[0m\n",
      "\u001b[0;31mTypeError\u001b[0m: fully_connected() missing 2 required positional arguments: 'inputs' and 'num_outputs'"
     ]
    }
   ],
   "source": [
    "'''感知机，也成为线性阈值单元(LTU, linear threshold unit)。可以认为是一个神经元(activation function(wt*x+b))。当人\n",
    "工神经网络有两个或多个隐含层时,称为深度神经网络(DNN)'''\n",
    "import tensorflow as tf\n",
    "import numpy as np\n",
    "from sklearn.datasets import load_iris\n",
    "from sklearn.model_selection import train_test_split\n",
    "import tensorflow.contrib as tc\n",
    "\n",
    "iris_data = load_iris()\n",
    "X = iris_data.data[:, (2, 3)] # 花瓣长度，宽度\n",
    "y = (iris_data.target == 0).astype(np.int)\n",
    "X_train, X_test, y_train, y_test = train_test_split(X, y, test_size=0.2, random_state=42)\n",
    "'''使用tensorflow高级API训练MLP(多层感知机) (有点问题，某个函数已经被丢弃)'''\n",
    "# fearture_columns = tc.feature_column(X_train)#infer_real_valued_columns_from_input(X_train)\n",
    "# dnn_clf = tf.contrib.learn.DNNClassifier(hidden_units=[256, 64], fearture_columns=fearture_columns)\n",
    "# dnn_clf.fit(x=X_train, y=y_train, batch_size=50, steps=3)"
   ]
  },
  {
   "cell_type": "code",
   "execution_count": 3,
   "metadata": {},
   "outputs": [
    {
     "ename": "TypeError",
     "evalue": "__init__() missing 1 required positional argument: 'units'",
     "output_type": "error",
     "traceback": [
      "\u001b[0;31m---------------------------------------------------------------------------\u001b[0m",
      "\u001b[0;31mTypeError\u001b[0m                                 Traceback (most recent call last)",
      "\u001b[0;32m<ipython-input-3-8614b8c91355>\u001b[0m in \u001b[0;36m<module>\u001b[0;34m\u001b[0m\n\u001b[0;32m----> 1\u001b[0;31m \u001b[0mtf\u001b[0m\u001b[0;34m.\u001b[0m\u001b[0mlayers\u001b[0m\u001b[0;34m.\u001b[0m\u001b[0mDense\u001b[0m\u001b[0;34m(\u001b[0m\u001b[0;34m)\u001b[0m\u001b[0;34m\u001b[0m\u001b[0;34m\u001b[0m\u001b[0m\n\u001b[0m",
      "\u001b[0;31mTypeError\u001b[0m: __init__() missing 1 required positional argument: 'units'"
     ]
    }
   ],
   "source": [
    "tf.layers.Dense()"
   ]
  }
 ],
 "metadata": {
  "kernelspec": {
   "display_name": "Python 3",
   "language": "python",
   "name": "python3"
  },
  "language_info": {
   "codemirror_mode": {
    "name": "ipython",
    "version": 3
   },
   "file_extension": ".py",
   "mimetype": "text/x-python",
   "name": "python",
   "nbconvert_exporter": "python",
   "pygments_lexer": "ipython3",
   "version": "3.7.3"
  }
 },
 "nbformat": 4,
 "nbformat_minor": 2
}
