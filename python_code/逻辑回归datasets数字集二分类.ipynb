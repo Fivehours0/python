{
 "cells": [
  {
   "cell_type": "code",
   "execution_count": 2,
   "metadata": {
    "scrolled": false
   },
   "outputs": [],
   "source": [
    "import numpy as np\n",
    "import pandas as pd \n",
    "import matplotlib.pyplot as plt\n",
    "from sklearn import datasets\n",
    "from sklearn.model_selection import train_test_split\n",
    "from sklearn.preprocessing import StandardScaler\n",
    "from sklearn.metrics import accuracy_score\n",
    "#加载数据\n",
    "digits_datas = datasets.load_digits()\n",
    "X = digits_datas.data\n",
    "y = digits_datas.target"
   ]
  },
  {
   "cell_type": "code",
   "execution_count": 3,
   "metadata": {},
   "outputs": [],
   "source": [
    "#分出数字4和6做二分类任务,数字4为1，数字6为0\n",
    "sample_4_X = X[y==4]\n",
    "sample_6_X = X[y==6]\n",
    "sample_4_y = y[y==4]\n",
    "sample_6_y = y[y==6]\n",
    "sample_4_y.reshape(sample_4_y.size, 1)\n",
    "sample_6_y.reshape(sample_6_y.size, 1)\n",
    "sample_set_X = np.r_[sample_4_X, sample_6_X]\n",
    "sample_set_y = np.r_[sample_4_y, sample_6_y]\n",
    "X_train, X_test, y_train, y_test = train_test_split(sample_set_X, sample_set_y, test_size=0.2, random_state=42,\n",
    "                                                   shuffle=True)"
   ]
  },
  {
   "cell_type": "code",
   "execution_count": 4,
   "metadata": {},
   "outputs": [],
   "source": [
    "X_train = X_train.T  # 讲训练集进行转置，使得每一列表示一个样本\n",
    "X_test = X_test.T\n",
    "y_train[y_train == 4] = 1\n",
    "y_train[y_train == 6] = 0\n",
    "y_test[y_test == 4] = 1\n",
    "y_test[y_test == 6] = 0\n",
    "y_train = y_train.reshape(1, y_train.size)\n",
    "y_test = y_test.reshape(1, y_test.size)\n",
    "scaler = StandardScaler()\n",
    "X_train_scaler = scaler.fit_transform(X_train)  #对训练集数据进行标准化"
   ]
  },
  {
   "cell_type": "code",
   "execution_count": 8,
   "metadata": {},
   "outputs": [
    {
     "name": "stdout",
     "output_type": "stream",
     "text": [
      "1.0\n",
      "[[1 1 1 0 1 0 1 1 0 1 0 1 0 1 1 0 0 0 0 1 1 0 1 0 0 0 0 1 1 0 1 1 1 0 1 1\n",
      "  1 1 0 1 0 0 1 0 1 0 1 1 1 1 0 1 0 0 1 0 1 1 0 1 0 0 1 1 0 1 0 1 0 1 1 0\n",
      "  0]]\n"
     ]
    },
    {
     "data": {
      "text/plain": [
       "array([[1, 1, 1, 0, 1, 0, 1, 1, 0, 1, 0, 1, 0, 1, 1, 0, 0, 0, 0, 1, 1, 0,\n",
       "        1, 0, 0, 0, 0, 1, 1, 0, 1, 1, 1, 0, 1, 1, 1, 1, 0, 1, 0, 0, 1, 0,\n",
       "        1, 0, 1, 1, 1, 1, 0, 1, 0, 0, 1, 0, 1, 1, 0, 1, 0, 0, 1, 1, 0, 1,\n",
       "        0, 1, 0, 1, 1, 0, 0]])"
      ]
     },
     "execution_count": 8,
     "metadata": {},
     "output_type": "execute_result"
    },
    {
     "data": {
      "image/png": "[encoded data removed]",
      "text/plain": [
       "<Figure size 432x288 with 1 Axes>"
      ]
     },
     "metadata": {
      "needs_background": "light"
     },
     "output_type": "display_data"
    }
   ],
   "source": [
    "#X.shape (64, 289) y_train.shape (1, 289) W.shape (dim, 1) b.shape 1 Z.shape=A.shape (1, 289)\n",
    "#定义sigmoid激活函数\n",
    "def sigmoid(z):\n",
    "    return 1 / (1+np.exp(-z))\n",
    "#定义ReLU激活函数\n",
    "def Relu(z):\n",
    "    z = np.where(z>0, z, 0)\n",
    "    return z\n",
    "#初始化 dim为W参数的个数(属性的个数)\n",
    "def initialize(dim):\n",
    "    W = np.random.randn(dim, 1) / 100\n",
    "    b = 0\n",
    "    return W, b\n",
    "#前向传播以及反向传播\n",
    "def propagate(W, b, X, Y):\n",
    "    m = X_train.shape[1]\n",
    "    #forward propagation\n",
    "    Z = np.dot(W.T, X) + b\n",
    "    A = sigmoid(Z)\n",
    "    #print(A)\n",
    "    cost = - (1 / m) * np.sum(Y * np.log(A) + (1-Y) * np.log(1-A))\n",
    "    #back propagation\n",
    "    dw = (1/m) * np.dot(X, (A-Y).T)\n",
    "    db = (1/m) * np.sum(A-Y)\n",
    "    #print(dw)\n",
    "    #讲dw和db保存为字典输出\n",
    "    grads = {'dw': dw,\n",
    "             'db': db}\n",
    "    return grads, cost\n",
    "\n",
    "def optimize(W, b, X, Y, num_iterations, learning_rate, print_cost=False):\n",
    "#gradient descent and updata paremeters\n",
    "#output : W, b所组成的字典, 保存每次迭代的cost\n",
    "    costs = []\n",
    "    for i in range(num_iterations):\n",
    "        grads, cost = propagate(W, b, X_train, y_train)\n",
    "        W = W - learning_rate * grads['dw']\n",
    "        b = b - learning_rate * grads['db']\n",
    "        #print(grads['dw'])\n",
    "        costs.append(cost)\n",
    "        if (i % 100 == 0) and (print_cost == True):\n",
    "            print('迭代次数：%i, cost: %f' % (i, cost))\n",
    "        params = {'W': W,\n",
    "                  'b': b}\n",
    "    return params, costs\n",
    "    \n",
    "def predict(W, b, X):\n",
    "    #输出预测\n",
    "    m = X.shape[1]\n",
    "    y = np.zeros((1, m))\n",
    "    Z = np.dot(W.T, X) + b\n",
    "    A = sigmoid(Z)\n",
    "    for i in range(A.shape[1]):\n",
    "        y[0, i] = 0 if A[0, i] < 0.5 else 1\n",
    "    return np.array(y, dtype=np.int)\n",
    "\n",
    "\n",
    "W, b = initialize(X_train.shape[0])\n",
    "params, costs = optimize(W, b, X_train_scaler, y_train, 200, 0.01, False)\n",
    "y_train_predict = predict(params['W'], params['b'], X_test)\n",
    "print(accuracy_score(y_test.reshape(y_test.shape[1]), y_train_predict.reshape(y_test.shape[1])))\n",
    "plt.figure()\n",
    "plt.plot(np.linspace(0, 200, 200), costs)\n",
    "print(y_train_predict)\n",
    "y_test"
   ]
  },
  {
   "cell_type": "code",
   "execution_count": null,
   "metadata": {},
   "outputs": [],
   "source": []
  },
  {
   "cell_type": "code",
   "execution_count": 6,
   "metadata": {},
   "outputs": [
    {
     "data": {
      "text/plain": [
       "(64, 289)"
      ]
     },
     "execution_count": 6,
     "metadata": {},
     "output_type": "execute_result"
    }
   ],
   "source": [
    "X_train.shape"
   ]
  }
 ],
 "metadata": {
  "kernelspec": {
   "display_name": "Python 3",
   "language": "python",
   "name": "python3"
  },
  "language_info": {
   "codemirror_mode": {
    "name": "ipython",
    "version": 3
   },
   "file_extension": ".py",
   "mimetype": "text/x-python",
   "name": "python",
   "nbconvert_exporter": "python",
   "pygments_lexer": "ipython3",
   "version": "3.7.3"
  }
 },
 "nbformat": 4,
 "nbformat_minor": 2
}
