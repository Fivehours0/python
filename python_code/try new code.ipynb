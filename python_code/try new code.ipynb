{
 "cells": [
  {
   "cell_type": "code",
   "execution_count": null,
   "metadata": {
    "scrolled": true
   },
   "outputs": [],
   "source": [
    "list1 = list(range(5))\n",
    "list2 = list(reversed(range(5)))\n",
    "list3 = zip(list1, list2)\n",
    "mapping = {}\n",
    "for i,(value1, value2) in enumerate(list3):  # 由二维列表生成字典\n",
    "    mapping[i] = (value1, value2)\n",
    "mapping\n",
    "for key,value in mapping.items():  #遍历字典\n",
    "    print('{0}:{1}'.format(key, value))\n",
    "# help(format)"
   ]
  },
  {
   "cell_type": "code",
   "execution_count": null,
   "metadata": {},
   "outputs": [],
   "source": [
    "'just have a try'\n",
    "import numpy as np\n",
    "from matplotlib import pyplot as plt\n",
    "DATA = np.array(range(16))\n",
    "XS, YS = np.meshgrid(DATA, DATA)\n",
    "Z = np.sqrt(XS ** 2 + YS ** 2)\n",
    "plt.imshow(Z, cmap=plt.cm.gray)\n",
    "plt.colorbar()\n",
    "plt.title(\"Image plot of $\\sqrt{x^2 + y^2}$ for a grid of values\")"
   ]
  },
  {
   "cell_type": "code",
   "execution_count": null,
   "metadata": {},
   "outputs": [],
   "source": [
    "import numpy as np\n",
    "import pandas as pd\n",
    "df = pd.read_csv('example.csv', header=None, names=['a', 'b', 'c', 'd', 'e'], index_col='e')\n",
    "df.to_csv('example.csv', sep='|')"
   ]
  },
  {
   "cell_type": "code",
   "execution_count": null,
   "metadata": {},
   "outputs": [],
   "source": [
    "import csv\n",
    "f = open('example.csv')\n",
    "reader = csv.reader(f)"
   ]
  },
  {
   "cell_type": "code",
   "execution_count": null,
   "metadata": {
    "scrolled": false
   },
   "outputs": [],
   "source": [
    "# data = pd.Series([1, np.nan, 3.5, None, 7])\n",
    "# data.isnull()\n",
    "# data.dropna()  # 丢弃数据缺失的位置, 等价于data[data.notnull()]\n",
    "# data = pd.DataFrame([[1., 6.5, 3.], [1., np.nan, np.nan],\n",
    "#                     [np.nan, np.nan, np.nan], [np.nan, 6.5, 3.], [np.nan, 6.5, 2.]])\n",
    "# print(data)\n",
    "\n",
    "\n",
    "data = pd.DataFrame({'k1': ['one', 'two']*3+['two'], 'k2': [1, 1, 2, 3, 3, 4, 4]})\n",
    "print(data)\n",
    "data.duplicated()  # 返回一个布尔型Series,表示各行是否是重复行(前面出现过的行)\n",
    "# data.drop_duplicates()  # 丢弃之前出现过的行\n",
    "data.drop_duplicates(['k1'])  # 丢弃k1列中之前出现过的行\n",
    "data.drop_duplicates(['k1', 'k2'], keep='last') # keep='last'表示保留重复行的最后一行，如5,6行重复，则保留第6行"
   ]
  },
  {
   "cell_type": "code",
   "execution_count": null,
   "metadata": {},
   "outputs": [],
   "source": [
    "'''测试程序运行时间'''\n",
    "import numpy as np\n",
    "import time\n",
    "\n",
    "a = np.random.rand(1000000)\n",
    "b = np.random.rand(1000000)\n",
    "\n",
    "tic = time.time()\n",
    "c = np.dot(a, b)\n",
    "toc = time.time()\n",
    "print('Vectorized version:' + str(1000*(toc-tic)) + 'ms')"
   ]
  },
  {
   "cell_type": "code",
   "execution_count": null,
   "metadata": {},
   "outputs": [],
   "source": [
    "'''测试class'''\n",
    "'''父类'''\n",
    "class Parent:\n",
    "    def __init__(self):\n",
    "        self.name = 'd'\n",
    "        self.role = 'father'\n",
    "    def send_message(self):\n",
    "        print(self.name)\n",
    "'''子类继承'''\n",
    "class Son(Parent):\n",
    "    def __init__(self, n_f):\n",
    "        #继承父类的函数和初始化值\n",
    "        #super(Son, self).__init__()\n",
    "        self.role = 'son'\n",
    "        print(n_f)\n",
    "        `\n",
    "son = Son(2)\n",
    "#son.send_message()"
   ]
  },
  {
   "cell_type": "code",
   "execution_count": null,
   "metadata": {},
   "outputs": [],
   "source": [
    "import numpy as np\n",
    "list1 = [0.0066, 0.0004, 0.0085, 0.0093, 0.0068, 0.0076, 0.0074, 0.0039, 0.0066, 0.0017]\n",
    "arr1 = np.array(list1)\n",
    "arr1_square = np.dot(arr1, arr1.T)\n",
    "arr2 = arr1 / np.sqrt(arr1_square)\n",
    "arr2"
   ]
  },
  {
   "cell_type": "code",
   "execution_count": null,
   "metadata": {},
   "outputs": [],
   "source": [
    "import matplotlib.pyplot as plt\n",
    "import numpy as np\n",
    "import pandas as pd\n",
    "fig, axes = plt.subplots(2, 2, sharex=True, sharey=True)  #分割成4个子图，所有子图用一样的x，y轴\n",
    "for i in range(2):\n",
    "    for j in range(2):\n",
    "        data = np.random.randn(5)\n",
    "        print(data)\n",
    "        axes[i, j].hist([-1, 1, 2, 3, 4], bins=2, color='k', alpha=0.5)\n",
    "plt.subplots_adjust(wspace=0, hspace=0)\n",
    "df = pd.DataFrame(np.arange(12).reshape(3,4), index=['a', 'b', 'c'], columns=['a', 'b', 'c', 'd'])\n",
    "df.plot.bar()\n",
    "np.concatenate()"
   ]
  },
  {
   "cell_type": "code",
   "execution_count": null,
   "metadata": {},
   "outputs": [],
   "source": [
    "plt.figure()\n",
    "plt.plot(np.random.randn(50), np.random.randn(50), label='a')\n",
    "plt.yticks([-1, 0, 1, 2, 3],   \n",
    "           ['really good', 'good', 'normal', 'bad', 'really bad'], rotation=30)  #用文字替代，与原来的角标对应，[-1, 0, 1, 2, 3]为原角标\n",
    "plt.legend(loc='best')\n",
    "plt.show()"
   ]
  },
  {
   "cell_type": "code",
   "execution_count": null,
   "metadata": {},
   "outputs": [],
   "source": [
    "import pandas as pd\n",
    "import numpy as np\n",
    "data = pd.DataFrame([[1., 6.5, 3.], [1., np.nan, np.nan],\n",
    "                    [np.nan, np.nan, np.nan], [np.nan, 6.5, 3.], [np.nan, 6.5, 2.]])\n",
    "data.fillna(0, inplace=True)\n",
    "\n",
    "data = pd.DataFrame(['Du','zhang', 'du', 'chen'], columns=['name'])\n",
    "data2 = data['name'].str.lower()\n",
    "name_to_character = {'du': 'man', 'zhang': 'woman', 'chen': 'woman'}\n",
    "data['character'] = data2.map(name_to_character)\n",
    "\n",
    "data = pd.DataFrame(np.arange(12).reshape((3, 4)),\n",
    "                    index=['ohio', 'Colorado', 'New York'],\n",
    "                    columns=['one', 'two', 'three', 'four'])\n",
    "data.rename(index=str.title, columns=str.upper)"
   ]
  },
  {
   "cell_type": "code",
   "execution_count": null,
   "metadata": {},
   "outputs": [],
   "source": [
    "ages = [20, 22, 25, 27, 21, 23, 37, 31, 61, 45]\n",
    "bins = [18, 25, 35, 60, 100]# 表示划分的区间为18-25,25-35,35-60,60-100\n",
    "cats = pd.cut(ages, bins)# 进行区间分配，返回的是每个数所属的区间 [(18, 25], (18, 25], ..., (35, 60], (25, 35]]，\n",
    "# cut有right属性，可以设置右边为开区间还是闭区间\n",
    "cats.codes# [0, 0, 0, 1, 0, 0, 2, 1, 3, 2, 2, 1]，即为区间赋予标签\n",
    "cats.categories# [(18, 25], (25, 35], (35, 60], (60, 100]]，返回区间\n",
    "pd.value_counts(cats)# 对每个面元的元素个数计数\n",
    "group_names = ['Youth', 'YoungAdult', 'MiddleAged', 'Senior']\n",
    "cats = pd.cut(ages, bins, labels=group_names)# labels为每个面元赋予一个名称\n",
    "# 如果向cut传入的是面元的数量而不是确切的面元边界,则它会根据数据的最小值和最大值计算等长面元\n",
    "cats = pd.cut(ages, 4, precision=2)# 4个面元，限定为2为小数\n",
    "\n",
    "cats = pd.qcut(ages, 4)# qcut使得每个面元中拥有的元素个数相同，4表示划分4个面元\n",
    "cats = pd.qcut(ages, [0, 0.1, 0.5, 0.9, 1.])# 分位数也称为分位点，0.1分位点 二分位点 0.9分位点，即按照每个面元中拥有的元素个数1:4:4:1\n",
    "pd.value_counts(cats, sort=False)"
   ]
  },
  {
   "cell_type": "code",
   "execution_count": null,
   "metadata": {},
   "outputs": [],
   "source": [
    "data = pd.DataFrame(np.random.randn(1000, 4))\n",
    "data.describe()# 会输出每列的信息，均值，方差，最小值，分位数\n",
    "col = data[2]\n",
    "col[np.abs(col)>3]# 找出第3列中绝对值大于3的数\n",
    "data[(np.abs(data)>3).any(1)]# 选出全部含有“超过3或-3的值”的行，any()在axis中只要有一个元素为True，则返回true，否则返回false\n",
    "data[np.abs(data) > 3] = np.sign(data) * 3# 将绝对值大于3的数变为3或-3。 根据数据的值是正还是负,np.sign(data)可以生成1和-1"
   ]
  },
  {
   "cell_type": "code",
   "execution_count": null,
   "metadata": {},
   "outputs": [],
   "source": [
    "df = pd.DataFrame(np.arange(5 * 4).reshape((5, 4)), index=['a', 'b', 'c', 'd', 'e'])\n",
    "sampler = np.random.permutation(5)# 将01234打算顺序\n",
    "df.take(sampler)# 将index或column(参数axis决定)的排序按照sampler的顺序排序\n",
    "df.sample(3, replace=True)# 随机采样index或column(参数axis决定), replace表示有放回的采样"
   ]
  },
  {
   "cell_type": "code",
   "execution_count": null,
   "metadata": {},
   "outputs": [],
   "source": [
    "df = pd.DataFrame({'key': ['b', 'b', 'a', 'c', 'a', 'b'],\n",
    "                   'data1': range(6)})\n",
    "pd.get_dummies(['b', 'b', 'a', 'c', 'a', 'b'])# 返回的是DataFrame，相当于进行独热编码，每一行表示一个元素\n",
    "dummies = pd.get_dummies(df['key'], prefix='key')# prefix=‘key’，在原来的column上加上前缀key_\n",
    "df = df.join(dummies)# 将df与dummier合并\n",
    "\n",
    "\n",
    "# 当某行同属于多个分类时处理起来比较麻烦\n",
    "df = pd.DataFrame({'name': ['duzhihui', 'chen'],# 名字\n",
    "                   'character': ['handsome|inter|quiet', 'beauty|active|inter']})# 富有多个性格\n",
    "all_character = []# 创建一个列表存储所有性格\n",
    "for x in df['character']:\n",
    "    all_character.append(x.split('|'))\n",
    "all_character = np.unique(all_character)# 去掉重复的性格\n",
    "zeros = np.zeros([len(all_character), len(df['name'])])# 构建指标DataFrame的方法之一是从一个全零DataFrame开始\n",
    "dummies = pd.DataFrame(zeros, index=all_character, columns=list(df['name']))\n",
    "for i, characters in enumerate(df.character):\n",
    "    #如果index为a, b, c 则get_indexer([c, a, b])返回2, 0, 1这相当于是返回行标签\n",
    "    indices = dummies.index.get_indexer(characters.split('|'))\n",
    "    dummies.iloc[indices, i] = 1# 使用iloc定位行标签，对相应的位置置1 \n",
    "# 对于很大的数据,用这种方式构建多成员指标变量就会变得非常慢。最好使用更低级的函数,将其写入NumPy数组,然后结果包装在DataFrame中。\n"
   ]
  },
  {
   "cell_type": "code",
   "execution_count": 1,
   "metadata": {},
   "outputs": [],
   "source": [
    "import numpy as np\n",
    "import pandas as pd"
   ]
  },
  {
   "cell_type": "code",
   "execution_count": null,
   "metadata": {
    "scrolled": false
   },
   "outputs": [],
   "source": [
    "# 层次化索引，在一个轴上拥有多个(两个以上)索引级别\n",
    "data = pd.Series(np.random.randn(9), \n",
    "                 index=[['a', 'a', 'a', 'b', 'b', 'c', 'c', 'd', 'd'],[1, 2, 3, 1, 3, 1, 2, 2, 3]])\n",
    "print(data)\n",
    "data['b']# 索引b\n",
    "data['b':'c']# 索引b-c\n",
    "data.loc[['b', 'd']]# 索引b和d\n",
    "data.loc[:, 2]# a,b,c中的索引2\n",
    "data.unstack()"
   ]
  },
  {
   "cell_type": "code",
   "execution_count": null,
   "metadata": {
    "scrolled": true
   },
   "outputs": [],
   "source": [
    "frame = pd.DataFrame(np.arange(12).reshape((4, 3)),\n",
    "                     index=[['a', 'a', 'b', 'b'], [1, 2, 1, 2]],\n",
    "                     )\n",
    "print(frame.rename(columns={0:'value'}))\n",
    "# frame.index.names = ['key1', 'key2']# 对层次化列进行命名\n",
    "# frame.columns.names = ['state', 'color']\n",
    "# frame.swaplevel('key1', 'key2')# 交换key1和key2两列index(key1和key2为层次化index的名称)\n",
    "#　frame.sort_index(level='key2')# 按照key2的值进行排序, 也可以用0表示第0行/列(axis决定)\n",
    "frame.reset_index().rename(columns={0:'value'})"
   ]
  },
  {
   "cell_type": "code",
   "execution_count": null,
   "metadata": {},
   "outputs": [],
   "source": [
    "df1 = pd.DataFrame({'key': ['b', 'b', 'a', 'c', 'a', 'a', 'b'],\n",
    "                    'data1': range(7)})\n",
    "df2 = pd.DataFrame({'key': ['a', 'b', 'd'],\n",
    "                    'data2': range(3)})\n",
    "pd.merge(df1, df2, on='key')# 根据key列对df1和df2进行合并"
   ]
  },
  {
   "cell_type": "code",
   "execution_count": null,
   "metadata": {},
   "outputs": [],
   "source": [
    "left1 = pd.DataFrame({'key': ['a', 'b', 'a', 'a', 'b','c'],\n",
    "                      'value': range(6)})\n",
    "right1 = pd.DataFrame({'group_val': [3.5, 7]}, index=['a', 'b'])\n",
    "print(left1)\n",
    "print(right1)\n",
    "pd.merge(left1, right1, left_on='key', right_index=True)# left_on表示左边的依据key列，right_index=True表示右边的依据index\n",
    "type({0:'value'})"
   ]
  },
  {
   "cell_type": "code",
   "execution_count": 21,
   "metadata": {},
   "outputs": [
    {
     "name": "stdout",
     "output_type": "stream",
     "text": [
      "no\n",
      "no\n",
      "no\n",
      "no\n",
      "no\n",
      "no\n",
      "no\n",
      "no\n",
      "no\n"
     ]
    }
   ],
   "source": [
    "0o56432# 八进制\n",
    "0xF765A# 十六进制\n",
    "0b110011# 二进制\n",
    "int('F765A', 16)# 将16进制转换为10进制，二进制与八进制一样\n",
    "# 使用bin, oct, hex将十进制转换为2,8,16进制\n",
    "x = 5423.5346\n",
    "format(x, '.3f')\n",
    "format(x, '0^10,.2f')\n",
    "\n",
    "name = \"Tony\"\n",
    "for i in range(10):\n",
    "    if i == 9:\n",
    "        break\n",
    "else:\n",
    "    print('no')"
   ]
  },
  {
   "cell_type": "code",
   "execution_count": 2,
   "metadata": {},
   "outputs": [
    {
     "name": "stdout",
     "output_type": "stream",
     "text": [
      "请输入一个数：1\n",
      "1是奇数\n",
      "请输入一个数：end\n"
     ]
    }
   ],
   "source": [
    "while(1):\n",
    "    data = input('请输入一个数：')\n",
    "    if(data == 'end'):\n",
    "        break\n",
    "    else:\n",
    "        data = int(data)\n",
    "    if data % 2 == 1:\n",
    "        print('%d是奇数'%data)\n",
    "    else:\n",
    "        print('%d是偶数'%data)\n"
   ]
  },
  {
   "cell_type": "code",
   "execution_count": 32,
   "metadata": {
    "scrolled": false
   },
   "outputs": [],
   "source": [
    "df = pd.DataFrame({'key1' : ['a', 'a', 'b', 'b', 'a'],\n",
    "                   'key2' : ['one', 'two', 'one', 'two', 'one'],\n",
    "                   'data1' : np.random.randn(5),\n",
    "                   'data2' : np.random.randn(5)})\n",
    "# print(df)\n",
    "# groups = df.groupby(df['key1'])\n",
    "# for name, value in groups:\n",
    "#     print(name)\n",
    "#     print(value)\n",
    "# dict(list(df.groupby(df['key1'])))['a']\n",
    "# df = pd.DataFrame(data=np.arange(12).reshape(2,6), \n",
    "#                   columns=[['tip_pct', 'tip_pct', 'tip_pct', 'total_bill', 'total_bill', 'total_bill'],\n",
    "#                            ['count', 'mean', 'max', 'count', 'mean', 'max']])\n",
    "# df"
   ]
  },
  {
   "cell_type": "code",
   "execution_count": 33,
   "metadata": {
    "scrolled": false
   },
   "outputs": [
    {
     "name": "stdout",
     "output_type": "stream",
     "text": [
      "       key1 key2     data1     data2\n",
      "key1                                \n",
      "a    0    a  one -0.315679 -1.860151\n",
      "     4    a  one -0.073170 -0.819039\n",
      "     1    a  two -0.739497  0.056689\n",
      "b    2    b  one -0.139171 -1.604346\n",
      "     3    b  two -0.579179  1.123642\n",
      "  key1 key2     data1     data2\n",
      "0    a  one -0.315679 -1.860151\n",
      "1    a  two -0.739497  0.056689\n",
      "2    b  one -0.139171 -1.604346\n",
      "3    b  two -0.579179  1.123642\n",
      "4    a  one -0.073170 -0.819039\n"
     ]
    },
    {
     "data": {
      "text/html": [
       "<div>\n",
       "<style scoped>\n",
       "    .dataframe tbody tr th:only-of-type {\n",
       "        vertical-align: middle;\n",
       "    }\n",
       "\n",
       "    .dataframe tbody tr th {\n",
       "        vertical-align: top;\n",
       "    }\n",
       "\n",
       "    .dataframe thead th {\n",
       "        text-align: right;\n",
       "    }\n",
       "</style>\n",
       "<table border=\"1\" class=\"dataframe\">\n",
       "  <thead>\n",
       "    <tr style=\"text-align: right;\">\n",
       "      <th></th>\n",
       "      <th>data1</th>\n",
       "      <th>data2</th>\n",
       "    </tr>\n",
       "    <tr>\n",
       "      <th>key1</th>\n",
       "      <th></th>\n",
       "      <th></th>\n",
       "    </tr>\n",
       "  </thead>\n",
       "  <tbody>\n",
       "    <tr>\n",
       "      <th>a</th>\n",
       "      <td>0.666327</td>\n",
       "      <td>1.916839</td>\n",
       "    </tr>\n",
       "    <tr>\n",
       "      <th>b</th>\n",
       "      <td>0.440008</td>\n",
       "      <td>2.727988</td>\n",
       "    </tr>\n",
       "  </tbody>\n",
       "</table>\n",
       "</div>"
      ],
      "text/plain": [
       "         data1     data2\n",
       "key1                    \n",
       "a     0.666327  1.916839\n",
       "b     0.440008  2.727988"
      ]
     },
     "execution_count": 33,
     "metadata": {},
     "output_type": "execute_result"
    }
   ],
   "source": [
    "def top(df, n=2, column='key2'):\n",
    "    return df.sort_values(by=column)\n",
    "def peak_to_peak(arr):\n",
    "    return arr.max() - arr.min()\n",
    "print(df.groupby('key1').apply(top))\n",
    "print(df)\n",
    "df.groupby('key1').agg(peak_to_peak)"
   ]
  },
  {
   "cell_type": "code",
   "execution_count": 29,
   "metadata": {
    "scrolled": true
   },
   "outputs": [
    {
     "data": {
      "text/html": [
       "<div>\n",
       "<style scoped>\n",
       "    .dataframe tbody tr th:only-of-type {\n",
       "        vertical-align: middle;\n",
       "    }\n",
       "\n",
       "    .dataframe tbody tr th {\n",
       "        vertical-align: top;\n",
       "    }\n",
       "\n",
       "    .dataframe thead th {\n",
       "        text-align: right;\n",
       "    }\n",
       "</style>\n",
       "<table border=\"1\" class=\"dataframe\">\n",
       "  <thead>\n",
       "    <tr style=\"text-align: right;\">\n",
       "      <th></th>\n",
       "      <th>data1</th>\n",
       "      <th>data2</th>\n",
       "    </tr>\n",
       "    <tr>\n",
       "      <th>key1</th>\n",
       "      <th></th>\n",
       "      <th></th>\n",
       "    </tr>\n",
       "  </thead>\n",
       "  <tbody>\n",
       "    <tr>\n",
       "      <th>a</th>\n",
       "      <td>1.559891</td>\n",
       "      <td>0.750623</td>\n",
       "    </tr>\n",
       "    <tr>\n",
       "      <th>b</th>\n",
       "      <td>0.390498</td>\n",
       "      <td>2.196971</td>\n",
       "    </tr>\n",
       "  </tbody>\n",
       "</table>\n",
       "</div>"
      ],
      "text/plain": [
       "         data1     data2\n",
       "key1                    \n",
       "a     1.559891  0.750623\n",
       "b     0.390498  2.196971"
      ]
     },
     "execution_count": 29,
     "metadata": {},
     "output_type": "execute_result"
    }
   ],
   "source": [
    "df.groupby('key1').apply(peak_to_peak)\n",
    "#del df['key2']"
   ]
  },
  {
   "cell_type": "code",
   "execution_count": 106,
   "metadata": {},
   "outputs": [
    {
     "name": "stdout",
     "output_type": "stream",
     "text": [
      "data1\n",
      "(-3.58, -1.989]     {'min': -3.573658685854913, 'max': -2.00290904...\n",
      "(-1.989, -0.404]    {'min': -1.9883782265543504, 'max': -0.4040781...\n",
      "(-0.404, 1.181]     {'min': -0.3993275265531533, 'max': 1.17870517...\n",
      "(1.181, 2.766]      {'min': 1.1818092561433085, 'max': 2.765522436...\n",
      "Name: data1, dtype: object\n",
      "data1                  \n",
      "(-3.58, -1.989]   count     21.000000\n",
      "                  max       -2.002909\n",
      "                  mean      -2.397419\n",
      "                  min       -3.573659\n",
      "(-1.989, -0.404]  count    320.000000\n",
      "                  max       -0.404078\n",
      "                  mean      -0.989597\n",
      "                  min       -1.988378\n",
      "(-0.404, 1.181]   count    545.000000\n",
      "                  max        1.178705\n",
      "                  mean       0.334586\n",
      "                  min       -0.399328\n",
      "(1.181, 2.766]    count    114.000000\n",
      "                  max        2.765522\n",
      "                  mean       1.658918\n",
      "                  min        1.181809\n",
      "Name: data1, dtype: float64\n"
     ]
    }
   ],
   "source": [
    "def get_stats(group):\n",
    "    return {'min': group.min(), 'max': group.max(),\n",
    "            'count': group.count(), 'mean': group.mean()}\n",
    "\n",
    "frame = pd.DataFrame({'data1': np.random.randn(1000),\n",
    "                      'data2': np.random.randn(1000)})\n",
    "\n",
    "quartiles = pd.cut(frame['data1'], 4)\n",
    "groups = frame.data1.groupby(quartiles)\n",
    "print(groups.agg(get_stats))\n",
    "print(groups.apply(get_stats))"
   ]
  },
  {
   "cell_type": "code",
   "execution_count": 16,
   "metadata": {},
   "outputs": [
    {
     "name": "stdout",
     "output_type": "stream",
     "text": [
      "East   -0.329129\n",
      "West    0.655439\n",
      "dtype: float64\n"
     ]
    },
    {
     "data": {
      "text/plain": [
       "Ohio         -0.329129\n",
       "New York     -0.934683\n",
       "Vermont      -0.329129\n",
       "Florida       0.276426\n",
       "Oregon        0.655439\n",
       "Nevada        0.095686\n",
       "California    0.288012\n",
       "Idaho         1.582621\n",
       "dtype: float64"
      ]
     },
     "execution_count": 16,
     "metadata": {},
     "output_type": "execute_result"
    }
   ],
   "source": [
    "states = ['Ohio', 'New York', 'Vermont', 'Florida','Oregon', 'Nevada', 'California', 'Idaho']\n",
    "group_key = ['East'] * 4 + ['West'] * 4\n",
    "series1 = pd.Series(np.random.randn(8), index=states)\n",
    "series1['Ohio', 'Vermont', 'Oregon'] = np.NAN\n",
    "parts = series1.groupby(group_key)\n",
    "print(parts.mean())\n",
    "parts.apply(lambda x: x.fillna(x.mean()))"
   ]
  },
  {
   "cell_type": "code",
   "execution_count": 34,
   "metadata": {},
   "outputs": [
    {
     "data": {
      "text/plain": [
       "{'name': None}"
      ]
     },
     "execution_count": 34,
     "metadata": {},
     "output_type": "execute_result"
    }
   ],
   "source": [
    "from copy import deepcopy\n",
    "dict1 = {'name':30}\n",
    "dict2 = dict1.copy()\n",
    "dict3 = deepcopy(dict1)\n",
    "dict2['name'] = 50\n",
    "dict1, dict2, dict3\n",
    "dict4 = {}.fromkeys(['name', 'weight'], 0)\n",
    "dict4.keys() \n",
    "dict1['name'] = None\n",
    "dict1.setdefault('name', 'dd')\n",
    "dict1"
   ]
  },
  {
   "cell_type": "code",
   "execution_count": 70,
   "metadata": {
    "scrolled": false
   },
   "outputs": [
    {
     "name": "stdout",
     "output_type": "stream",
     "text": [
      "请输入一个包含整数的字符串：s 2 s 2\n"
     ]
    },
    {
     "data": {
      "text/plain": [
       "'s 0000000002 s 0000000002'"
      ]
     },
     "execution_count": 70,
     "metadata": {},
     "output_type": "execute_result"
    }
   ],
   "source": [
    "from string import Template\n",
    "\n",
    "digit_count = 0\n",
    "str1 = input('请输入一个包含整数的字符串：')\n",
    "templete1 = Template(\"{$digit_count:010}\")# 使用模板字符串创造出字典格式化\n",
    "list1 = str1.split(' ')\n",
    "for i in range(len(list1)):\n",
    "    if list1[i].isalpha() == False:# 判断字符串中的字符是否为数字\n",
    "        temp = int(list1[i])\n",
    "        list1[i] = templete1.substitute(digit_count=0)\n",
    "        list1[i] = list1[i].format(temp)\n",
    "        digit_count += 1\n",
    "all_string = ' '.join(list1)\n",
    "all_string"
   ]
  },
  {
   "cell_type": "code",
   "execution_count": 2,
   "metadata": {},
   "outputs": [
    {
     "name": "stdout",
     "output_type": "stream",
     "text": [
      "{1: 2}\n",
      "{2: 3}\n",
      "{3: 4}\n",
      "{4: 5}\n",
      "add\n",
      "15\n"
     ]
    }
   ],
   "source": [
    "list1 = [1, 2, 3, 4]\n",
    "list2 = [2, 3, 4, 5]\n",
    "for value in zip(list1, list2):\n",
    "    print(dict([value]))\n",
    "\n",
    "def add_numbers(op_type, *numbers):\n",
    "    number_sum = 0\n",
    "    print(op_type)\n",
    "    for number in numbers:\n",
    "        number_sum += number\n",
    "    return number_sum\n",
    "print(add_numbers('add', 1, 2, 3, 4, 5))"
   ]
  },
  {
   "cell_type": "code",
   "execution_count": 46,
   "metadata": {},
   "outputs": [
    {
     "name": "stdout",
     "output_type": "stream",
     "text": [
      "10 0\n",
      "10 5\n",
      "10 7\n",
      "10 8\n"
     ]
    },
    {
     "data": {
      "text/plain": [
       "9"
      ]
     },
     "execution_count": 46,
     "metadata": {},
     "output_type": "execute_result"
    }
   ],
   "source": [
    "list1 = list(range(20))\n",
    "def split_two(n, list1):\n",
    "    left_point = 0\n",
    "    right_point = len(list1)\n",
    "    middle_point = (right_point-left_point) // 2\n",
    "    while(n != list1[middle_point]):\n",
    "        if n < list1[middle_point]:\n",
    "            right_point = middle_point\n",
    "        elif n > list1[middle_point]:\n",
    "            left_point = middle_point\n",
    "        middle_point = (right_point+left_point) // 2\n",
    "    else:\n",
    "        return middle_point\n",
    "split_two(9, list1)"
   ]
  },
  {
   "cell_type": "code",
   "execution_count": 20,
   "metadata": {},
   "outputs": [
    {
     "name": "stdout",
     "output_type": "stream",
     "text": [
      "your name is:  no name\n",
      "your name is:  you du\n"
     ]
    },
    {
     "data": {
      "text/plain": [
       "__main__.You"
      ]
     },
     "execution_count": 20,
     "metadata": {},
     "output_type": "execute_result"
    }
   ],
   "source": [
    "class You:\n",
    "    name = ' '\n",
    "    def get_name(self, name):\n",
    "        self.name = name\n",
    "you = You()\n",
    "you.get_name(\"no name\")\n",
    "print(\"your name is: \", you.name)\n",
    "class Me(You):\n",
    "    my_name = ''\n",
    "    def get_my_name(self, my_name):\n",
    "        self.my_name = my_name\n",
    "my = Me()\n",
    "my.get_name('you')\n",
    "my.get_my_name('du')\n",
    "print(\"your name is: \", my.name, my.my_name)\n",
    "\n",
    "issubclass(Me, You)# 若Me是You的子类，返回True\n",
    "isinstance(my, Me)# 若my是Me的实例化，返回True\n",
    "Me.__base__# 返回父类 __main__.You"
   ]
  },
  {
   "cell_type": "code",
   "execution_count": 9,
   "metadata": {},
   "outputs": [
    {
     "name": "stdout",
     "output_type": "stream",
     "text": [
      "please input a number: 0\n",
      "please input another number: 0\n",
      "x, y不能同时等于0\n"
     ]
    }
   ],
   "source": [
    "class NegativeException(Exception):\n",
    "    pass\n",
    "class ZeroException(Exception):\n",
    "    pass\n",
    "\n",
    "try:\n",
    "    x = int(input(\"please input a number: \"))\n",
    "    y = int(input(\"please input another number: \"))\n",
    "    if y == 0 and x == 0:\n",
    "        raise ZeroException(\"x, y不能同时等于0\")\n",
    "    if y == 0:\n",
    "        raise ZeroException(\"y不能等于0\")\n",
    "    \n",
    "    print(\"x / y = {}\".format(x/y))\n",
    "    print(\"x - y = {}\".format(x-y))\n",
    "    \n",
    "except ZeroException as e:\n",
    "    print(e)\n",
    "except NegativeException:\n",
    "    print(\"***操作数为负异常***\")\n",
    "except:\n",
    "    print(\"***其他异常***\")\n",
    "    "
   ]
  },
  {
   "cell_type": "code",
   "execution_count": 1,
   "metadata": {},
   "outputs": [
    {
     "name": "stdout",
     "output_type": "stream",
     "text": [
      "please input a number: 0\n",
      "please input another number: 0\n",
      "x, y不能同时等于0\n",
      "please input a number: 1\n",
      "please input another number: 1\n",
      "mission complete\n",
      "x / y = 1.0\n",
      "x - y = 0\n"
     ]
    }
   ],
   "source": [
    "class NegativeException(Exception):\n",
    "    pass\n",
    "class ZeroException(Exception):\n",
    "    pass\n",
    "while True:\n",
    "    try:\n",
    "        x = int(input(\"please input a number: \"))\n",
    "        y = int(input(\"please input another number: \"))\n",
    "        if y == 0 and x == 0:\n",
    "            raise ZeroException(\"x, y不能同时等于0\")\n",
    "        if y == 0:\n",
    "            raise ZeroException(\"y不能等于0\")\n",
    "    except ZeroException as e:\n",
    "        print(e)\n",
    "    except NegativeException:\n",
    "        print(\"***操作数为负异常***\")\n",
    "    except:\n",
    "        print(\"***其他异常***\")\n",
    "    else:\n",
    "        print(\"mission complete\")\n",
    "        print(\"x / y = {}\".format(x/y))\n",
    "        print(\"x - y = {}\".format(x-y))\n",
    "        break;"
   ]
  },
  {
   "cell_type": "code",
   "execution_count": 24,
   "metadata": {},
   "outputs": [
    {
     "name": "stdout",
     "output_type": "stream",
     "text": [
      "du\n",
      "21\n",
      "dz\n",
      "dl\n"
     ]
    }
   ],
   "source": [
    "class My:\n",
    "    def __init__(self, name=\"duzhihui\", age=18):\n",
    "        self.name = name\n",
    "        self.age = age\n",
    "    def show(self):\n",
    "        print(self.name)\n",
    "my = My(name=\"du\")\n",
    "my.show()\n",
    "\n",
    "class You(My):\n",
    "    def __init__(self, name, age):\n",
    "        super().__init__(name, age)\n",
    "you = You(\"dz\", 21)\n",
    "print(you.age)\n",
    "you.show()\n",
    "\n",
    "class Our(You):\n",
    "    def __init__(self, name, age):\n",
    "        super().__init__(name, age)\n",
    "our = Our(\"dl\", 21)\n",
    "our.show()"
   ]
  },
  {
   "cell_type": "code",
   "execution_count": 34,
   "metadata": {},
   "outputs": [
    {
     "name": "stdout",
     "output_type": "stream",
     "text": [
      "4!=24\n"
     ]
    },
    {
     "data": {
      "text/plain": [
       "1"
      ]
     },
     "execution_count": 34,
     "metadata": {},
     "output_type": "execute_result"
    }
   ],
   "source": [
    "class Factorial:\n",
    "    def __init__(self):\n",
    "        self.numDict = {}\n",
    "        \n",
    "    def factorial(self, n):# 计算阶乘的函数\n",
    "        if n==0 or n==1:\n",
    "            return 1\n",
    "        else:\n",
    "            return n * self.factorial(n-1)\n",
    "        \n",
    "    def __getitem__(self, key):# 返回的value值为阶乘\n",
    "        if key in self.numDict:\n",
    "            return self.factorial(self.numDict[key])# 计算阶乘值\n",
    "        else:\n",
    "            return 0\n",
    "    \n",
    "    def __setitem__(self, key, value):# 设置键对应的值为value\n",
    "        self.numDict[key] = int(value)\n",
    "    \n",
    "    def __delitem__(self, key):\n",
    "        del self.numDict[key]\n",
    "        \n",
    "    def __len__(self):\n",
    "        return len(self.numDict)\n",
    "\n",
    "d = Factorial()\n",
    "d['4!'] = 4# 调用setitem\n",
    "d['7!'] = 7\n",
    "print(\"4!={}\".format(d['4!']))# 调用了getitem, 返回的内容是阶乘\n",
    "del d['4!']# 调用了delitem\n",
    "len(d)# 调用__len__，返回长度"
   ]
  },
  {
   "cell_type": "code",
   "execution_count": 47,
   "metadata": {},
   "outputs": [
    {
     "name": "stdout",
     "output_type": "stream",
     "text": [
      "0\n",
      "10\n",
      "2\n"
     ]
    }
   ],
   "source": [
    "class CounterList(list):\n",
    "    def __init__(self, *arg):\n",
    "        super().__init__(*arg)\n",
    "        self.count = 0\n",
    "    \n",
    "    def __getitem__(self, index):\n",
    "        self.count += 1\n",
    "        return super().__getitem__(index)\n",
    "\n",
    "c = CounterList(range(10))\n",
    "c.reverse()\n",
    "del c[2:7]\n",
    "\n",
    "print(c.count)\n",
    "print(c[1]+c[2])\n",
    "print(c.count)"
   ]
  },
  {
   "cell_type": "code",
   "execution_count": 50,
   "metadata": {},
   "outputs": [
    {
     "data": {
      "text/plain": [
       "'duzhihui'"
      ]
     },
     "execution_count": 50,
     "metadata": {},
     "output_type": "execute_result"
    }
   ],
   "source": [
    "class Counterdict(dict):\n",
    "    def __init__(self, *arg):# 指定一个可变参数，初始化字典\n",
    "        super().__init__(*arg)\n",
    "        self.count = 0\n",
    "    \n",
    "    def __getitem__(self, key):\n",
    "        self.count += 1\n",
    "        return super().__getitem__(key)\n",
    "\n",
    "d = Counterdict({'name': 'duzhihui'})\n",
    "d['age'] = 30# 添加新的key-value对\n",
    "d['name']"
   ]
  },
  {
   "cell_type": "code",
   "execution_count": 17,
   "metadata": {},
   "outputs": [
    {
     "name": "stdout",
     "output_type": "stream",
     "text": [
      "10\n",
      "position= (10, 0)\n",
      "fa\n",
      "position= (100, 200)\n"
     ]
    }
   ],
   "source": [
    "class Monitor:\n",
    "    def __init__(self):\n",
    "        self.left = 0\n",
    "        self.top = 0\n",
    "    def setposition(self, position):\n",
    "        print(\"fa\")\n",
    "        self.left, self.top = position\n",
    "    def getposition(self):\n",
    "        return self.left, self.top\n",
    "    def deleteposition(self):\n",
    "        print(\"position属性已经被删除\")\n",
    "        self.left = 0\n",
    "        self.top = 0\n",
    "    position = property(getposition, setposition, deleteposition)\n",
    "\n",
    "r = Monitor()\n",
    "r.left = 10\n",
    "print(r.left)\n",
    "print('position=', r.position)\n",
    "r.position = 100, 200\n",
    "print('position=', r.position)"
   ]
  },
  {
   "cell_type": "code",
   "execution_count": 41,
   "metadata": {
    "scrolled": true
   },
   "outputs": [
    {
     "name": "stdout",
     "output_type": "stream",
     "text": [
      "width被设置，新值为0\n",
      "height被设置，新值为0\n",
      "left被设置，新值为0\n",
      "top被设置，新值为0\n",
      "size被设置，新值为(1, 100)\n",
      "width被设置，新值为1\n",
      "height被设置，新值为100\n",
      "position被设置，新值为(100, 300)\n",
      "left被设置，新值为100\n",
      "top被设置，新值为300\n",
      "1\n"
     ]
    }
   ],
   "source": [
    "class Monitor_pro:\n",
    "    def __init__(self):\n",
    "        self.width = 0\n",
    "        self.height = 0\n",
    "        self.left = 0\n",
    "        self.top = 0\n",
    "    def __setattr__(self, name, value):\n",
    "        print(\"{}被设置，新值为{}\".format(name, value))\n",
    "        if name == 'size':\n",
    "            self.width, self.height = value\n",
    "        elif name == 'position':\n",
    "            self.left, self.top = value\n",
    "        else:\n",
    "            # __dict__是内部维护的一个特殊成员变量，用于保存成员变量的值，所以这条语句必须加上\n",
    "            if value > 0:\n",
    "                self.__dict__[name] = value\n",
    "    def __getattr__(self, name):\n",
    "        print(\"{}被获取\".format(name))\n",
    "        if name == 'size':\n",
    "            return self.width, self.height\n",
    "        elif name == 'position':\n",
    "            return self.left, self.top\n",
    "    def __delattr__(self, name):\n",
    "        if name == 'size':\n",
    "            self.width = self.height = 0\n",
    "        elif name == 'position':\n",
    "            self.left = self.top = 0\n",
    "\n",
    "r = Monitor_pro()\n",
    "r.size = 1, 100\n",
    "r.position = 100, 300\n",
    "print(r.width)"
   ]
  },
  {
   "cell_type": "code",
   "execution_count": 45,
   "metadata": {},
   "outputs": [
    {
     "name": "stdout",
     "output_type": "stream",
     "text": [
      "duzhihui\n",
      "duzhihui\n",
      "duzhihui\n"
     ]
    }
   ],
   "source": [
    "class My:\n",
    "    name = \"duzhihui\"# 变量前面没有加self表示静态变量\n",
    "    @staticmethod# 静态方法\n",
    "    def run():\n",
    "        print(My.name)\n",
    "    @classmethod# 类方法\n",
    "    def you(self):\n",
    "        print(self.name)# 调用静态变量\n",
    "        self.run()# 调用静态方法\n",
    "My.run()# 使用静态方法\n",
    "my = My()\n",
    "my.you()# 使用类方法"
   ]
  },
  {
   "cell_type": "code",
   "execution_count": 46,
   "metadata": {},
   "outputs": [
    {
     "name": "stdout",
     "output_type": "stream",
     "text": [
      "0 1 1 2 3 5 8 13 21 34 55 89 144 233 377 610 "
     ]
    }
   ],
   "source": [
    "class Fibonacci:\n",
    "    def __init__(self):\n",
    "        self.a = 0\n",
    "        self.b = 1\n",
    "    def __next__(self):\n",
    "        result = self.a\n",
    "        self.a, self.b = self.b, self.a + self.b\n",
    "        return result\n",
    "    def __iter__(self):\n",
    "        return self\n",
    "\n",
    "fibs = Fibonacci()\n",
    "for fib in fibs:\n",
    "    print(fib, end=' ')\n",
    "    if fib > 500:\n",
    "        break"
   ]
  },
  {
   "cell_type": "code",
   "execution_count": 61,
   "metadata": {},
   "outputs": [
    {
     "data": {
      "text/plain": [
       "['dzh', 22, 'dd', 11]"
      ]
     },
     "execution_count": 61,
     "metadata": {},
     "output_type": "execute_result"
    }
   ],
   "source": [
    "str1 = \"dzh 22 dd 11\"\n",
    "list1 = str1.split(sep=' ')\n",
    "for i in range(len(list1)):\n",
    "    try:\n",
    "        int(list1[i])\n",
    "    except:\n",
    "        continue\n",
    "    list1[i] = int(list1[i])\n",
    "list1"
   ]
  },
  {
   "cell_type": "code",
   "execution_count": 75,
   "metadata": {},
   "outputs": [
    {
     "name": "stdout",
     "output_type": "stream",
     "text": [
      "4 1 2 3 5 6 4 3 1 2 4 5 2 1 2 4 5 7 "
     ]
    }
   ],
   "source": [
    "def enumList(nestedList):\n",
    "    try:\n",
    "        # 无论是什么形式的列表， 迭代到最后都是一个元素，触发Typeerror后返回至第二个for，\n",
    "        for sublist in nestedList:\n",
    "            for element in enumList(sublist):\n",
    "                yield element\n",
    "    except TypeError:# 在递归过程中都是第一个for抛出的异常\n",
    "        yield nestedList\n",
    "        \n",
    "nestedList = [4, [1, 2, [3, 5, 6]], [4, 3, [1, 2, [4, 5]], 2], [1, 2, 4, 5, 7]]\n",
    "for num in enumList(nestedList):\n",
    "    print(num, end=' ')"
   ]
  },
  {
   "cell_type": "code",
   "execution_count": 7,
   "metadata": {
    "scrolled": true
   },
   "outputs": [
    {
     "data": {
      "text/plain": [
       "[2, 3, 5, 8, 13, 21, 34, 55, 89, 144, 233]"
      ]
     },
     "execution_count": 7,
     "metadata": {},
     "output_type": "execute_result"
    }
   ],
   "source": [
    "class iterator:\n",
    "    def __init__(self):\n",
    "        self.a = 1\n",
    "        self.b = 1\n",
    "    def __next__(self):\n",
    "        result = self.a + self.b\n",
    "        self.a, self.b = self.b, result\n",
    "        if result > 300:\n",
    "            raise StopIteration\n",
    "        return result\n",
    "    def __iter__(self):\n",
    "        return self\n",
    "fibs = iterator()\n",
    "list(fibs)"
   ]
  },
  {
   "cell_type": "code",
   "execution_count": 48,
   "metadata": {},
   "outputs": [
    {
     "name": "stdout",
     "output_type": "stream",
     "text": [
      "<re.Match object; span=(0, 6), match='acs-12'>\n",
      "<re.Match object; span=(7, 13), match='ads-23'>\n"
     ]
    },
    {
     "data": {
      "text/plain": [
       "[('all', ''), ('', 'All'), ('', 'Ald')]"
      ]
     },
     "execution_count": 48,
     "metadata": {},
     "output_type": "execute_result"
    }
   ],
   "source": [
    "import re\n",
    "\n",
    "m = re.match('sd', 'hello sd hel')# 在后面的字符串中匹配sd, 返回的是none，需要开头匹配，即将sd改为hel\n",
    "re.search('sd', 'hello sd hel sd')# 会返回span=(6， 8),只能找到第一个sd\n",
    "re.search('bike|train|ship', 'where is bike')# 匹配多个字符串，match方法也可以这样使用\n",
    "re.match('.ike', 'bike')# 匹配成功，点号(.)表示可以是任意一个字符,啥的都行\n",
    "re.match('[ab][cd]', 'ad')# 匹配成功，第一个字符可以是a或b，第二个字符可以是c或d\n",
    "re.match('a*', 'aa')# *表示字符串中出现0次到n次\n",
    "re.match('a+', 'aa')# +表示字符串中出现1次到n次\n",
    "re.match('(abc)+', 'ab')# 多个字母,要求abc同时出现1次或n次\n",
    "re.match('(\\w?)wa(\\d?)', 'was')# a?表示a可有可无，\\w表示任意一个字母或数字，\\d表示任意一个数字\n",
    "s = '[a-z]'# 表示a-z中的26个字母任意选择一个\n",
    "s = '\\d{3}'# {3}表示前面修饰的特殊字符“\\d”重复3次\n",
    "re.match('[a-zA-Z0-9]@', '1@')# [abc]表示是a或b或c，这里表示@前面是一个大写字母或小写字母或数字\n",
    "re.match('(abc)-([a-z]{3})', 'abc-cde')# 用括号括起来会进行分组，如.group(1)返回abc。.group(2)返回cde。.groups获得每组组成的元组\n",
    "re.search('^The', 'The end')# ^表示匹配字符串的开始，即The要位于开始处\n",
    "re.search('The$', 'end The')# $表示匹配字符串的结束，即The要位于结尾\n",
    "re.search(r'\\bThe\\b', 'The end')# \\b表示边界(如空格，问号等)，记得加上r\n",
    "\n",
    "re.findall('[a-z]{3}-[0-9]{2}', 'acs-12-ads-23-sd-2')# 会返回所有找到的匹配的内容['acs-12', 'ads-23']\n",
    "for value in re.finditer('[a-z]{3}-[0-9]{2}', 'acs-12-ads-23-sd-2'):# finditer函数与findall函数功能类似，finditer是findall的迭代器版本\n",
    "    print(value)\n",
    "re.sub('du', 'duzhihui', 'du is du')# 返回'duzhihui is duzhihui'，将du替换为duzhihui\n",
    "re.subn('du', 'duzhihui', 'du is du')# 返回('duzhihui is duzhihui', 2)，与sub功能相同，只是返回的内容不同  \n",
    "result = re.sub('([0-9])([a-z]+)', r'产品编号(\\1-\\2)', '01-1abc,02-2xyz,03-9hgf')# 可以通过\\1访问group(1), \\2访问group(2)\n",
    "re.split('[,;.\\s]+', 'd u,z.h;i  h,,u..i', maxsplit=2)# ,;.\\s(空白符)中的任意一个作为分隔符，maxsplit设置分隔次数\n",
    "re.search('\\w\\.+', 'as..')# 一个字母加多个点\n",
    "re.search('\\w.+', '.ssd')# 以字母或数字开头，后面加多个啥都行"
   ]
  },
  {
   "cell_type": "code",
   "execution_count": 53,
   "metadata": {},
   "outputs": [
    {
     "name": "stdout",
     "output_type": "stream",
     "text": [
      "<re.Match object; span=(0, 8), match='2001-4-5'>\n",
      "<re.Match object; span=(0, 9), match='2004-05-1'>\n",
      "<re.Match object; span=(0, 10), match='2012-02-02'>\n"
     ]
    }
   ],
   "source": [
    "word_format = '2\\d{3}-(\\d{2}|\\d)-(\\d{2}|\\d)'\n",
    "data_list = ['2001-4-5', '2004-05-1', '2012-02-02']\n",
    "for value in data_list:\n",
    "    print(re.match(word_format, value))"
   ]
  },
  {
   "cell_type": "code",
   "execution_count": 153,
   "metadata": {
    "scrolled": true
   },
   "outputs": [
    {
     "name": "stdout",
     "output_type": "stream",
     "text": [
      "duzhiuhiuhuihuahdshiuah]\n",
      "\n"
     ]
    }
   ],
   "source": [
    "import numpy as np\n",
    "lines = []\n",
    "with open('test.txt', 'a+') as f:\n",
    "    f.seek(0)\n",
    "    for line in f.read():\n",
    "        line = line.rstrip()\n",
    "        for value in line:\n",
    "            lines.append(value)\n",
    "    for i in range(len(lines)):\n",
    "        lines[i] = re.sub('\\s', '', lines[i])\n",
    "        lines[i] = re.sub('a\\w{4}', 'perfect', lines[i])\n",
    "        lines[i] = re.sub('f\\w{4}', 'right', lines[i])\n",
    "    # f.write(\"how old are you\")\n",
    "with open('test.txt', 'r+') as f:\n",
    "    print(f.readline())\n",
    "    f.writelines(['how old are you', 'how old are you', 'how old are you'])"
   ]
  },
  {
   "cell_type": "code",
   "execution_count": 41,
   "metadata": {},
   "outputs": [
    {
     "name": "stdout",
     "output_type": "stream",
     "text": [
      "输入一个奇数:39\n"
     ]
    }
   ],
   "source": [
    "num = int(input('输入一个奇数:'))\n",
    "half_num = num // 2 + 1 \n",
    "list1 = []\n",
    "for i in range(half_num):\n",
    "    show_str = '*' * (2*i+1)\n",
    "    list1.append(\"{0:^{1}}\".format(show_str, num))\n",
    "\n",
    "list2 = list1.copy()\n",
    "list1.reverse()\n",
    "list2.extend(list1)\n",
    "del list2[len(list2) // 2]\n",
    "\n",
    "with open('test.txt','w') as f:\n",
    "    for value in list2:\n",
    "        f.write(value+'\\n')"
   ]
  },
  {
   "cell_type": "code",
   "execution_count": 63,
   "metadata": {},
   "outputs": [
    {
     "name": "stdout",
     "output_type": "stream",
     "text": [
      "['test', 'star', 'test', 'star', 'star', 'bus', 'test', 'bill', 'new', 'yeah', 'bill', 'book', 'bike', 'God', 'start', 'python', 'whar']\n",
      "new : 1\n",
      "book : 1\n",
      "python : 1\n",
      "test : 3\n",
      "bill : 2\n",
      "star : 3\n",
      "God : 1\n",
      "whar : 1\n",
      "bus : 1\n",
      "yeah : 1\n",
      "start : 1\n",
      "bike : 1\n"
     ]
    }
   ],
   "source": [
    "import re\n",
    "with open('test.txt', 'r') as f:\n",
    "    list1 = f.readline().rstrip()\n",
    "    list1 = re.split('[\\s;,]+', list1)\n",
    "    print(list1)\n",
    "    list1_set = set(list1)\n",
    "    for value in list1_set:\n",
    "        print(value, ':', list1.count(value))"
   ]
  },
  {
   "cell_type": "code",
   "execution_count": 33,
   "metadata": {},
   "outputs": [
    {
     "name": "stdout",
     "output_type": "stream",
     "text": [
      "[ 2  3  5  7 11 13 17 19 23 29 31 37 41 43 47 53 59 61 67 71 73 79 83 89\n",
      " 97]\n"
     ]
    }
   ],
   "source": [
    "import numpy as np\n",
    "\n",
    "a = np.arange(1, 101)\n",
    "n_max = int(np.sqrt(len(a)))\n",
    "is_prime = np.ones(len(a), dtype=bool)\n",
    "is_prime[0] = False\n",
    "for i in range(2, n_max):\n",
    "    if i in a[is_prime]:\n",
    "        is_prime[i*2-1::i] = False\n",
    "#         print(is_prime)\n",
    "print(a[is_prime])"
   ]
  }
 ],
 "metadata": {
  "kernelspec": {
   "display_name": "Python 3",
   "language": "python",
   "name": "python3"
  },
  "language_info": {
   "codemirror_mode": {
    "name": "ipython",
    "version": 3
   },
   "file_extension": ".py",
   "mimetype": "text/x-python",
   "name": "python",
   "nbconvert_exporter": "python",
   "pygments_lexer": "ipython3",
   "version": "3.7.3"
  }
 },
 "nbformat": 4,
 "nbformat_minor": 2
}
