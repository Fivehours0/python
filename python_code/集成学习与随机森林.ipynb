{
 "cells": [
  {
   "cell_type": "code",
   "execution_count": 1,
   "metadata": {},
   "outputs": [],
   "source": [
    "import numpy as np\n",
    "import matplotlib.pyplot as plt\n",
    "from sklearn.datasets import make_moons"
   ]
  },
  {
   "cell_type": "code",
   "execution_count": 2,
   "metadata": {},
   "outputs": [
    {
     "data": {
      "image/png": "[encoded data removed]",
      "text/plain": [
       "<Figure size 432x288 with 1 Axes>"
      ]
     },
     "metadata": {
      "needs_background": "light"
     },
     "output_type": "display_data"
    }
   ],
   "source": [
    "'''数据可视化'''\n",
    "X, y = make_moons(500, noise=0.3, random_state=42)\n",
    "plt.figure()\n",
    "plt.scatter(X[y==0, 0], X[y==0, 1])\n",
    "plt.scatter(X[y==1, 0], X[y==1, 1])\n",
    "plt.show()"
   ]
  },
  {
   "cell_type": "code",
   "execution_count": 3,
   "metadata": {},
   "outputs": [],
   "source": [
    "from sklearn.model_selection import train_test_split\n",
    "X_train, X_test, y_train, y_test = train_test_split(X, y, random_state=42)"
   ]
  },
  {
   "cell_type": "code",
   "execution_count": 4,
   "metadata": {
    "scrolled": true
   },
   "outputs": [
    {
     "name": "stdout",
     "output_type": "stream",
     "text": [
      "LogisticRegression 0.864\n",
      "SVC 0.896\n",
      "DecisionTreeClassifier 0.832\n",
      "VotingClassifier 0.912\n"
     ]
    }
   ],
   "source": [
    "#使用逻辑回归，决策树，支持向量机，集成学习对moons数据进行处理\n",
    "from sklearn.linear_model import LogisticRegression\n",
    "from sklearn.svm import SVC\n",
    "from sklearn.preprocessing import StandardScaler\n",
    "from sklearn.pipeline import Pipeline\n",
    "from sklearn.tree import DecisionTreeClassifier\n",
    "from sklearn.ensemble import VotingClassifier\n",
    "from sklearn.metrics import accuracy_score\n",
    "\n",
    "#y_predict = np.array(y_predict, dtype=np.int) # 将布尔量y_predict转换为整形0，1量\n",
    "log_clf = LogisticRegression(solver='lbfgs')\n",
    "svm_clf = SVC(gamma='scale', probability=True)\n",
    "tree_clf = DecisionTreeClassifier()\n",
    "vote_clf = VotingClassifier(estimators=(   # 投票，少数服从多数\n",
    "    ('svc', svm_clf),\n",
    "    ('tree', tree_clf),\n",
    "    ('log', log_clf)), voting='soft')\n",
    "# 这个循环写的很漂亮\n",
    "for clf in (log_clf, svm_clf, tree_clf, vote_clf):\n",
    "    clf.fit(X_train, y_train)\n",
    "    y_pred = clf.predict(X_test)\n",
    "    print(clf.__class__.__name__, accuracy_score(y_test, y_pred))"
   ]
  },
  {
   "cell_type": "code",
   "execution_count": 5,
   "metadata": {},
   "outputs": [
    {
     "data": {
      "text/plain": [
       "array([[0.32291667, 0.67708333],\n",
       "       [0.38402062, 0.61597938],\n",
       "       [0.99742268, 0.00257732],\n",
       "       [0.00779221, 0.99220779],\n",
       "       [0.02604167, 0.97395833],\n",
       "       [0.08461538, 0.91538462],\n",
       "       [0.44743935, 0.55256065],\n",
       "       [0.05714286, 0.94285714],\n",
       "       [0.94429708, 0.05570292],\n",
       "       [0.83739837, 0.16260163],\n",
       "       [0.5826972 , 0.4173028 ],\n",
       "       [0.04199475, 0.95800525],\n",
       "       [0.74931129, 0.25068871],\n",
       "       [0.85752688, 0.14247312],\n",
       "       [0.88029925, 0.11970075],\n",
       "       [0.07407407, 0.92592593],\n",
       "       [0.02319588, 0.97680412],\n",
       "       [0.92084433, 0.07915567],\n",
       "       [0.69756098, 0.30243902],\n",
       "       [0.96825397, 0.03174603],\n",
       "       [0.03723404, 0.96276596],\n",
       "       [0.27322404, 0.72677596],\n",
       "       [0.8877551 , 0.1122449 ],\n",
       "       [0.98721228, 0.01278772],\n",
       "       [0.96363636, 0.03636364],\n",
       "       [0.        , 1.        ],\n",
       "       [0.96103896, 0.03896104],\n",
       "       [1.        , 0.        ],\n",
       "       [0.02227723, 0.97772277],\n",
       "       [0.68956743, 0.31043257],\n",
       "       [0.        , 1.        ],\n",
       "       [1.        , 0.        ],\n",
       "       [0.01630435, 0.98369565],\n",
       "       [0.078125  , 0.921875  ],\n",
       "       [0.11609499, 0.88390501],\n",
       "       [0.96782842, 0.03217158],\n",
       "       [0.00527704, 0.99472296],\n",
       "       [0.546875  , 0.453125  ],\n",
       "       [0.01312336, 0.98687664],\n",
       "       [0.98666667, 0.01333333],\n",
       "       [0.09343434, 0.90656566],\n",
       "       [0.32283465, 0.67716535],\n",
       "       [1.        , 0.        ],\n",
       "       [0.98944591, 0.01055409],\n",
       "       [0.00255102, 0.99744898],\n",
       "       [1.        , 0.        ],\n",
       "       [0.99746835, 0.00253165],\n",
       "       [0.05235602, 0.94764398],\n",
       "       [0.99469496, 0.00530504],\n",
       "       [0.03324808, 0.96675192],\n",
       "       [0.94358974, 0.05641026],\n",
       "       [0.81627297, 0.18372703],\n",
       "       [0.95822454, 0.04177546],\n",
       "       [0.84391534, 0.15608466],\n",
       "       [0.02716049, 0.97283951],\n",
       "       [0.07772021, 0.92227979],\n",
       "       [0.81866667, 0.18133333],\n",
       "       [0.00802139, 0.99197861],\n",
       "       [0.01025641, 0.98974359],\n",
       "       [0.04846939, 0.95153061],\n",
       "       [0.85063291, 0.14936709],\n",
       "       [0.62628866, 0.37371134],\n",
       "       [0.72965879, 0.27034121],\n",
       "       [0.99748111, 0.00251889],\n",
       "       [0.01685393, 0.98314607],\n",
       "       [0.75338753, 0.24661247],\n",
       "       [0.99487179, 0.00512821],\n",
       "       [0.99741602, 0.00258398],\n",
       "       [0.63896104, 0.36103896],\n",
       "       [0.98687664, 0.01312336],\n",
       "       [0.30208333, 0.69791667],\n",
       "       [0.32453826, 0.67546174],\n",
       "       [0.41147132, 0.58852868],\n",
       "       [0.67282322, 0.32717678],\n",
       "       [0.00515464, 0.99484536],\n",
       "       [0.31524548, 0.68475452],\n",
       "       [0.88831169, 0.11168831],\n",
       "       [1.        , 0.        ],\n",
       "       [0.02710027, 0.97289973],\n",
       "       [0.96542553, 0.03457447],\n",
       "       [0.00773196, 0.99226804],\n",
       "       [0.20580475, 0.79419525],\n",
       "       [0.14516129, 0.85483871],\n",
       "       [0.5026178 , 0.4973822 ],\n",
       "       [0.98461538, 0.01538462],\n",
       "       [0.03804348, 0.96195652],\n",
       "       [0.66212534, 0.33787466],\n",
       "       [0.07286432, 0.92713568],\n",
       "       [0.03349282, 0.96650718],\n",
       "       [0.        , 1.        ],\n",
       "       [0.36641221, 0.63358779],\n",
       "       [0.99740933, 0.00259067],\n",
       "       [0.01020408, 0.98979592],\n",
       "       [0.03636364, 0.96363636],\n",
       "       [0.01033592, 0.98966408],\n",
       "       [0.81510417, 0.18489583],\n",
       "       [0.66057441, 0.33942559],\n",
       "       [0.06870229, 0.93129771],\n",
       "       [0.99733333, 0.00266667],\n",
       "       [0.32299742, 0.67700258],\n",
       "       [0.69430052, 0.30569948],\n",
       "       [0.0026178 , 0.9973822 ],\n",
       "       [0.04358974, 0.95641026],\n",
       "       [0.42933333, 0.57066667],\n",
       "       [0.98963731, 0.01036269],\n",
       "       [0.03466667, 0.96533333],\n",
       "       [0.98641304, 0.01358696],\n",
       "       [0.46842105, 0.53157895],\n",
       "       [0.33421053, 0.66578947],\n",
       "       [0.99484536, 0.00515464],\n",
       "       [0.20308483, 0.79691517],\n",
       "       [0.86363636, 0.13636364],\n",
       "       [0.26753247, 0.73246753],\n",
       "       [0.77368421, 0.22631579],\n",
       "       [0.99475066, 0.00524934],\n",
       "       [0.98746867, 0.01253133],\n",
       "       [0.        , 1.        ],\n",
       "       [0.00524934, 0.99475066],\n",
       "       [0.47382199, 0.52617801],\n",
       "       [0.99465241, 0.00534759],\n",
       "       [0.05181347, 0.94818653],\n",
       "       [0.98469388, 0.01530612],\n",
       "       [0.96542553, 0.03457447],\n",
       "       [1.        , 0.        ],\n",
       "       [0.95544554, 0.04455446],\n",
       "       [0.97889182, 0.02110818],\n",
       "       [0.03867403, 0.96132597],\n",
       "       [0.93622449, 0.06377551],\n",
       "       [0.97074468, 0.02925532],\n",
       "       [0.02624672, 0.97375328],\n",
       "       [0.23785166, 0.76214834],\n",
       "       [0.85677083, 0.14322917],\n",
       "       [0.39107612, 0.60892388],\n",
       "       [0.9469496 , 0.0530504 ],\n",
       "       [0.        , 1.        ],\n",
       "       [0.04347826, 0.95652174],\n",
       "       [0.81666667, 0.18333333],\n",
       "       [0.73209549, 0.26790451],\n",
       "       [0.60051546, 0.39948454],\n",
       "       [0.89736842, 0.10263158],\n",
       "       [0.94387755, 0.05612245],\n",
       "       [0.10655738, 0.89344262],\n",
       "       [0.79521277, 0.20478723],\n",
       "       [0.025     , 0.975     ],\n",
       "       [0.00771208, 0.99228792],\n",
       "       [0.09470752, 0.90529248],\n",
       "       [0.77088949, 0.22911051],\n",
       "       [0.97229917, 0.02770083],\n",
       "       [0.99752475, 0.00247525],\n",
       "       [0.04289544, 0.95710456],\n",
       "       [0.00522193, 0.99477807],\n",
       "       [0.06117021, 0.93882979],\n",
       "       [0.01846966, 0.98153034],\n",
       "       [1.        , 0.        ],\n",
       "       [0.98680739, 0.01319261],\n",
       "       [0.87139108, 0.12860892],\n",
       "       [0.99473684, 0.00526316],\n",
       "       [1.        , 0.        ],\n",
       "       [0.89182058, 0.10817942],\n",
       "       [0.00533333, 0.99466667],\n",
       "       [0.68030691, 0.31969309],\n",
       "       [0.32804233, 0.67195767],\n",
       "       [0.05585106, 0.94414894],\n",
       "       [0.00514139, 0.99485861],\n",
       "       [0.38630137, 0.61369863],\n",
       "       [0.99462366, 0.00537634],\n",
       "       [0.97662338, 0.02337662],\n",
       "       [0.        , 1.        ],\n",
       "       [0.99472296, 0.00527704],\n",
       "       [0.05420054, 0.94579946],\n",
       "       [0.00520833, 0.99479167],\n",
       "       [0.91857506, 0.08142494],\n",
       "       [0.01526718, 0.98473282],\n",
       "       [0.00263158, 0.99736842],\n",
       "       [1.        , 0.        ],\n",
       "       [0.03316327, 0.96683673],\n",
       "       [0.86021505, 0.13978495],\n",
       "       [0.91913747, 0.08086253],\n",
       "       [0.03617571, 0.96382429],\n",
       "       [0.93472585, 0.06527415],\n",
       "       [0.91989664, 0.08010336],\n",
       "       [0.96363636, 0.03636364],\n",
       "       [0.01912568, 0.98087432],\n",
       "       [0.01033592, 0.98966408],\n",
       "       [0.98969072, 0.01030928],\n",
       "       [0.24556962, 0.75443038],\n",
       "       [1.        , 0.        ],\n",
       "       [0.08121827, 0.91878173],\n",
       "       [0.01526718, 0.98473282],\n",
       "       [0.97889182, 0.02110818],\n",
       "       [0.        , 1.        ],\n",
       "       [0.19280206, 0.80719794],\n",
       "       [0.89664083, 0.10335917],\n",
       "       [0.89473684, 0.10526316],\n",
       "       [0.62244898, 0.37755102],\n",
       "       [0.69402985, 0.30597015],\n",
       "       [0.01578947, 0.98421053],\n",
       "       [0.25326371, 0.74673629],\n",
       "       [0.99226804, 0.00773196],\n",
       "       [0.93638677, 0.06361323],\n",
       "       [0.92327366, 0.07672634],\n",
       "       [0.98670213, 0.01329787],\n",
       "       [0.04010695, 0.95989305],\n",
       "       [0.0132626 , 0.9867374 ],\n",
       "       [0.10182768, 0.89817232],\n",
       "       [0.5177665 , 0.4822335 ],\n",
       "       [0.        , 1.        ],\n",
       "       [0.01639344, 0.98360656],\n",
       "       [0.97429306, 0.02570694],\n",
       "       [0.06756757, 0.93243243],\n",
       "       [0.10263158, 0.89736842],\n",
       "       [0.89556136, 0.10443864],\n",
       "       [0.06434316, 0.93565684],\n",
       "       [0.35400517, 0.64599483],\n",
       "       [0.00840336, 0.99159664],\n",
       "       [0.99725275, 0.00274725],\n",
       "       [0.01355014, 0.98644986],\n",
       "       [0.01044386, 0.98955614],\n",
       "       [0.92432432, 0.07567568],\n",
       "       [0.88220551, 0.11779449],\n",
       "       [0.97043011, 0.02956989],\n",
       "       [0.01842105, 0.98157895],\n",
       "       [0.05943152, 0.94056848],\n",
       "       [0.95592287, 0.04407713],\n",
       "       [0.11621622, 0.88378378],\n",
       "       [0.00260417, 0.99739583],\n",
       "       [0.26052632, 0.73947368],\n",
       "       [0.97319035, 0.02680965],\n",
       "       [0.79473684, 0.20526316],\n",
       "       [0.10230179, 0.89769821],\n",
       "       [0.72506739, 0.27493261],\n",
       "       [0.93455497, 0.06544503],\n",
       "       [0.14213198, 0.85786802],\n",
       "       [0.12276215, 0.87723785],\n",
       "       [0.9974359 , 0.0025641 ],\n",
       "       [0.        , 1.        ],\n",
       "       [0.0129199 , 0.9870801 ],\n",
       "       [0.01      , 0.99      ],\n",
       "       [0.35789474, 0.64210526],\n",
       "       [0.85204082, 0.14795918],\n",
       "       [0.04060914, 0.95939086],\n",
       "       [0.98984772, 0.01015228],\n",
       "       [0.87848101, 0.12151899],\n",
       "       [0.00518135, 0.99481865],\n",
       "       [0.74300254, 0.25699746],\n",
       "       [0.98492462, 0.01507538],\n",
       "       [0.00510204, 0.99489796],\n",
       "       [1.        , 0.        ],\n",
       "       [0.05464481, 0.94535519],\n",
       "       [0.00831025, 0.99168975],\n",
       "       [0.12793734, 0.87206266],\n",
       "       [0.25124378, 0.74875622],\n",
       "       [0.8516624 , 0.1483376 ],\n",
       "       [0.06234414, 0.93765586],\n",
       "       [0.99491094, 0.00508906],\n",
       "       [0.66009852, 0.33990148],\n",
       "       [0.08854167, 0.91145833],\n",
       "       [0.71168831, 0.28831169],\n",
       "       [0.85564304, 0.14435696],\n",
       "       [0.0078329 , 0.9921671 ],\n",
       "       [0.99740933, 0.00259067],\n",
       "       [0.01511335, 0.98488665],\n",
       "       [0.        , 1.        ],\n",
       "       [0.74530831, 0.25469169],\n",
       "       [0.        , 1.        ],\n",
       "       [0.98976982, 0.01023018],\n",
       "       [0.10526316, 0.89473684],\n",
       "       [0.78453039, 0.21546961],\n",
       "       [0.14550265, 0.85449735],\n",
       "       [0.99472296, 0.00527704],\n",
       "       [0.8976378 , 0.1023622 ],\n",
       "       [0.00779221, 0.99220779],\n",
       "       [0.06788512, 0.93211488],\n",
       "       [0.17948718, 0.82051282],\n",
       "       [0.07989691, 0.92010309],\n",
       "       [0.00534759, 0.99465241],\n",
       "       [0.96984925, 0.03015075],\n",
       "       [0.86279683, 0.13720317],\n",
       "       [0.16710183, 0.83289817],\n",
       "       [0.91025641, 0.08974359],\n",
       "       [0.04098361, 0.95901639],\n",
       "       [0.59424084, 0.40575916],\n",
       "       [0.13385827, 0.86614173],\n",
       "       [0.94021739, 0.05978261],\n",
       "       [0.93333333, 0.06666667],\n",
       "       [0.01052632, 0.98947368],\n",
       "       [0.94587629, 0.05412371],\n",
       "       [0.89315068, 0.10684932],\n",
       "       [0.00258398, 0.99741602],\n",
       "       [0.05412371, 0.94587629],\n",
       "       [0.99736842, 0.00263158],\n",
       "       [0.02680965, 0.97319035],\n",
       "       [0.98701299, 0.01298701],\n",
       "       [0.08900524, 0.91099476],\n",
       "       [0.90666667, 0.09333333],\n",
       "       [1.        , 0.        ],\n",
       "       [0.01259446, 0.98740554],\n",
       "       [0.04210526, 0.95789474],\n",
       "       [0.7173913 , 0.2826087 ],\n",
       "       [0.        , 1.        ],\n",
       "       [0.99728261, 0.00271739],\n",
       "       [0.68351064, 0.31648936],\n",
       "       [0.83064516, 0.16935484],\n",
       "       [0.9972973 , 0.0027027 ],\n",
       "       [0.72959184, 0.27040816],\n",
       "       [0.46310433, 0.53689567],\n",
       "       [0.03485255, 0.96514745],\n",
       "       [0.85078534, 0.14921466],\n",
       "       [0.00253807, 0.99746193],\n",
       "       [0.99746193, 0.00253807],\n",
       "       [0.76407507, 0.23592493],\n",
       "       [1.        , 0.        ],\n",
       "       [0.99741602, 0.00258398],\n",
       "       [0.81462141, 0.18537859],\n",
       "       [0.28457447, 0.71542553],\n",
       "       [0.13      , 0.87      ],\n",
       "       [0.22797927, 0.77202073],\n",
       "       [0.00531915, 0.99468085],\n",
       "       [0.76363636, 0.23636364],\n",
       "       [0.9119171 , 0.0880829 ],\n",
       "       [0.02525253, 0.97474747],\n",
       "       [0.99488491, 0.00511509],\n",
       "       [0.96062992, 0.03937008],\n",
       "       [1.        , 0.        ],\n",
       "       [0.0025974 , 0.9974026 ],\n",
       "       [0.056     , 0.944     ],\n",
       "       [0.94550409, 0.05449591],\n",
       "       [0.93979058, 0.06020942],\n",
       "       [0.99479167, 0.00520833],\n",
       "       [0.2201087 , 0.7798913 ],\n",
       "       [0.98680739, 0.01319261],\n",
       "       [0.11811024, 0.88188976],\n",
       "       [0.9296875 , 0.0703125 ],\n",
       "       [0.04336735, 0.95663265],\n",
       "       [0.98737374, 0.01262626],\n",
       "       [0.9974359 , 0.0025641 ],\n",
       "       [0.98930481, 0.01069519],\n",
       "       [0.        , 1.        ],\n",
       "       [0.9375    , 0.0625    ],\n",
       "       [0.01030928, 0.98969072],\n",
       "       [0.05181347, 0.94818653],\n",
       "       [0.06515581, 0.93484419],\n",
       "       [0.        , 1.        ],\n",
       "       [0.99745547, 0.00254453],\n",
       "       [0.99240506, 0.00759494],\n",
       "       [0.        , 1.        ],\n",
       "       [0.95652174, 0.04347826],\n",
       "       [0.08951407, 0.91048593],\n",
       "       [0.99488491, 0.00511509],\n",
       "       [0.22107969, 0.77892031],\n",
       "       [0.00252525, 0.99747475],\n",
       "       [0.0703125 , 0.9296875 ],\n",
       "       [0.        , 1.        ],\n",
       "       [0.82939633, 0.17060367],\n",
       "       [0.08684211, 0.91315789],\n",
       "       [0.10659898, 0.89340102],\n",
       "       [1.        , 0.        ],\n",
       "       [0.94723618, 0.05276382],\n",
       "       [0.23560209, 0.76439791],\n",
       "       [0.94179894, 0.05820106],\n",
       "       [0.06666667, 0.93333333],\n",
       "       [0.10695187, 0.89304813],\n",
       "       [1.        , 0.        ],\n",
       "       [0.92620865, 0.07379135],\n",
       "       [0.56770833, 0.43229167],\n",
       "       [0.88767123, 0.11232877],\n",
       "       [1.        , 0.        ],\n",
       "       [0.0296496 , 0.9703504 ],\n",
       "       [0.93963255, 0.06036745],\n",
       "       [0.04455446, 0.95544554],\n",
       "       [0.13032581, 0.86967419],\n",
       "       [0.91733333, 0.08266667],\n",
       "       [0.9973822 , 0.0026178 ],\n",
       "       [0.0828877 , 0.9171123 ],\n",
       "       [0.72335025, 0.27664975]])"
      ]
     },
     "execution_count": 5,
     "metadata": {},
     "output_type": "execute_result"
    }
   ],
   "source": [
    "'''Bagging(自助采样，有放回采样) and Pasting(无放回采样)'''\n",
    "'''通常来说，Bagging拥有更好的性能'''\n",
    "from sklearn.ensemble import BaggingClassifier\n",
    "#n_estimator 表示学习器的数量，max_sample 表示在数据集上进行有放回采样100个实例，bootstrap=1为Bagging，=0为Pasting\n",
    "#n_jobs=-1 表示使用所有空闲的CPU核\n",
    "'''如果基分类器可以使用分类概率(predict_probe方法)，则BaggingClassifier会自动采用软投票方式'''\n",
    "'''out-of-bag\n",
    "对于自助采样，有37%没有被采样的训练实例称为out-of-bag实例，注意对于每一个的分类器它们的 37% 不是相同的。因为没有在训练的时候使用oob数据，\n",
    "所以可以把这些数据当成验证集测试学习器的性能。将oob_score设置为True即表示使用oob最为验证集'''\n",
    "bag_clf = BaggingClassifier(base_estimator=DecisionTreeClassifier(), n_estimators=500, max_samples=100,\n",
    "                           bootstrap=True, n_jobs=-1,oob_score=True)\n",
    "bag_clf.fit(X_train, y_train)\n",
    "y_pred = bag_clf.predict(X_test)\n",
    "accuracy_score(y_test, y_pred)  # 对测试集的准确率的评估\n",
    "bag_clf.oob_score_ # 对oob验证集的准确率的评估\n",
    "'''随机贴片：对训练集实例和特征的采样。随机子空间：保留所有实例，对特征进行采样'''\n",
    "'''max_features(属性子空间，采样多少个属性)和bootstrap_features(与bootstrap用法类似，表示是否进行有放回的采样)'''\n",
    "bag_clf.oob_decision_function_  # 输出每个实例为某一个类别的概率"
   ]
  },
  {
   "cell_type": "code",
   "execution_count": 6,
   "metadata": {},
   "outputs": [
    {
     "data": {
      "text/plain": [
       "'极端随机树，随机森林中只是随机抽样了属性集，在极端随机树中(Extremely Randomized Trees)，对每个属性中的划分点(阈值)也进行随机选取\\n可以使用API ExtraTreesClassifier() ，一般通过交叉验证判断使用随机森林还是极端随机数'"
      ]
     },
     "execution_count": 6,
     "metadata": {},
     "output_type": "execute_result"
    }
   ],
   "source": [
    "'''随机森林(Random Forest)'''\n",
    "'''随机森林算法在树生长时引入了额外的随机;与在节点分裂时需要找到最好分裂特征相反(决策树),\n",
    "它在一个随机的特征集中找最好的特征。它导致了树的差异性,并且再一次用高偏差换低方差,总的来说是一个更好的模型。'''\n",
    "from sklearn.ensemble import RandomForestClassifier\n",
    "rnd_clf = RandomForestClassifier(n_estimators=500, max_leaf_nodes=16)\n",
    "rnd_clf.fit(X_train, y_train)\n",
    "y_pred = rnd_clf.predict(X_test)\n",
    "accuracy_score(y_test, y_pred)\n",
    "'''极端随机树，随机森林中只是随机抽样了属性集，在极端随机树中(Extremely Randomized Trees)，对每个属性中的划分点(阈值)也进行随机选取\n",
    "可以使用API ExtraTreesClassifier() ，一般通过交叉验证判断使用随机森林还是极端随机数'''"
   ]
  },
  {
   "cell_type": "code",
   "execution_count": 7,
   "metadata": {},
   "outputs": [
    {
     "name": "stdout",
     "output_type": "stream",
     "text": [
      "sepal length (cm) 0.09349700286747264\n",
      "sepal width (cm) 0.021205394478065423\n",
      "petal length (cm) 0.4340666184136446\n",
      "petal width (cm) 0.4512309842408174\n"
     ]
    },
    {
     "data": {
      "text/plain": [
       "'随机森林可以非常方便快速得了解哪些特征实际上是重要的,特别是你需要进行特征选择的时候。'"
      ]
     },
     "execution_count": 7,
     "metadata": {},
     "output_type": "execute_result"
    }
   ],
   "source": [
    "'''特征重要性，一般重要的特征出现在决策树的根结点(信息熵高)部位，因此可以通过计算一个特征在森林的全部树中出现的平均深度来预测特征的重要性，\n",
    "可以通过feature_importances_变量来查看结果'''\n",
    "from sklearn.datasets import load_iris\n",
    "iris_data = load_iris()\n",
    "rnd_clf = RandomForestClassifier(n_estimators=500, n_jobs=-1)\n",
    "rnd_clf.fit(iris_data.data, iris_data.target)\n",
    "for name, score in zip(iris_data.feature_names, rnd_clf.feature_importances_):\n",
    "    print(name, score)  # 输出特征的名字和重要性\n",
    "'''随机森林可以非常方便快速得了解哪些特征实际上是重要的,特别是你需要进行特征选择的时候。'''"
   ]
  },
  {
   "cell_type": "code",
   "execution_count": 8,
   "metadata": {},
   "outputs": [],
   "source": [
    "#回归线可视化\n",
    "def Regression_Visualization(x, y, clf):\n",
    "    plt.figure()\n",
    "    y_plot = clf.predict(x)\n",
    "    plt.scatter(x, y, c='r', marker='x')\n",
    "    plt.scatter(x, y_plot, c='b', marker='o')\n",
    "    plt.show()"
   ]
  },
  {
   "cell_type": "code",
   "execution_count": 149,
   "metadata": {},
   "outputs": [
    {
     "data": {
      "image/png": "[encoded data removed]",
      "text/plain": [
       "<Figure size 432x288 with 1 Axes>"
      ]
     },
     "metadata": {
      "needs_background": "light"
     },
     "output_type": "display_data"
    }
   ],
   "source": [
    "'''adaboosting and 梯度提升'''\n",
    "'''adaboosting,使一个新的分类器去修正之前分类结果的方法,就是对之前分类结果不对的训练实例多加关\n",
    "注。这导致新的预测因子(权值)越来越多地聚焦于错误分类的样本。一个重要的缺点就是:它不能被并行化(只能按步骤),\n",
    "因为每个分类器只能在之前的分类器已经被训练和评价后再进行训练。'''\n",
    "from sklearn.ensemble import AdaBoostClassifier\n",
    "ada_clf = AdaBoostClassifier(DecisionTreeClassifier(max_depth=1), n_estimators=200,\n",
    "                            algorithm=\"SAMME.R\", learning_rate=0.5)\n",
    "ada_clf.fit(X_train, y_train)\n",
    "'''如果你的 Adaboost 集成过拟合了训练集,你可以尝试减少基分类器的数量或者对基分类器使用更强的正则化。'''\n",
    "\n",
    "'''梯度提升'''\n",
    "'''它并不像 Adaboost 那样每一次迭代都更改实例的权重,这个方法是去使用新的分类器去拟合前面分类器预测的残差 。'''\n",
    "from sklearn.tree import DecisionTreeRegressor\n",
    "square_x = np.linspace(-2, 2, 100)\n",
    "square_y = square_x ** 2 + 1.5 * np.random.rand(100)  # y = x^2 加上噪声\n",
    "#可视化初始数据\n",
    "plt.figure()\n",
    "plt.scatter(square_x, square_y, c='r', marker='x')\n",
    "plt.show()\n",
    "square_x = square_x.reshape(-1, 1)"
   ]
  },
  {
   "cell_type": "code",
   "execution_count": 155,
   "metadata": {},
   "outputs": [
    {
     "data": {
      "image/png": "[encoded data removed]",
      "text/plain": [
       "<Figure size 432x288 with 1 Axes>"
      ]
     },
     "metadata": {
      "needs_background": "light"
     },
     "output_type": "display_data"
    },
    {
     "data": {
      "image/png": "[encoded data removed]",
      "text/plain": [
       "<Figure size 432x288 with 1 Axes>"
      ]
     },
     "metadata": {
      "needs_background": "light"
     },
     "output_type": "display_data"
    },
    {
     "data": {
      "image/png": "[encoded data removed]",
      "text/plain": [
       "<Figure size 432x288 with 1 Axes>"
      ]
     },
     "metadata": {
      "needs_background": "light"
     },
     "output_type": "display_data"
    },
    {
     "data": {
      "image/png": "[encoded data removed]",
      "text/plain": [
       "<Figure size 432x288 with 1 Axes>"
      ]
     },
     "metadata": {
      "needs_background": "light"
     },
     "output_type": "display_data"
    }
   ],
   "source": [
    "#第一个分类器\n",
    "tree_reg1 = DecisionTreeRegressor(max_depth=2)\n",
    "tree_reg1.fit(square_x, square_y)\n",
    "Regression_Visualization(square_x, square_y, tree_reg1)\n",
    "y2 = square_y - tree_reg1.predict(square_x)  # 得到残差\n",
    "\n",
    "#第二个分类器\n",
    "tree_reg2 = DecisionTreeRegressor(max_depth=2)\n",
    "tree_reg2.fit(square_x, y2)  # 以第一个分类器输出的残差为label\n",
    "Regression_Visualization(square_x, y2, tree_reg2)\n",
    "y3 = y2 - tree_reg2.predict(square_x)\n",
    "\n",
    "tree_reg3 = DecisionTreeRegressor(max_depth=2)\n",
    "tree_reg3.fit(square_x, y3)  # 以第一个分类器输出的残差为label\n",
    "Regression_Visualization(square_x, y3, tree_reg3)\n",
    "\n",
    "'''stacking 使用学习器来替代投票(即使用初学习器和次学习器)，sklearn并没有stack的API\n",
    "可以看看这个开源项目https://github.com/viisar/brew'''\n",
    "y_pred = sum(tree.predict(square_x) for tree in (tree_reg1, tree_reg2, tree_reg3))\n",
    "plt.figure()\n",
    "plt.scatter(square_x,square_y, c='r', marker='x')\n",
    "plt.scatter(square_x,y_pred, c='b', marker='o')\n",
    "plt.show()\n",
    "\n",
    "from sklearn.ensemble import GradientBoostingRegressor# sklearn中的梯度提升API\n",
    "gbrt = GradientBoostingRegressor(max_depth=2, n_estimators=3, learning_rate=1.0)\n",
    "gbrt.fit(X, y)"
   ]
  },
  {
   "cell_type": "code",
   "execution_count": 36,
   "metadata": {},
   "outputs": [
    {
     "data": {
      "image/png": "[encoded data removed]",
      "text/plain": [
       "<Figure size 432x288 with 1 Axes>"
      ]
     },
     "metadata": {
      "needs_background": "light"
     },
     "output_type": "display_data"
    }
   ],
   "source": [
    "'''决策树边界的可视化，即使用网格数据，通过模型预测网格数据中的所有值，在通过登高线图绘制所有预测点'''\n",
    "def Decision_Tree_Visualizition(X, y, clf):\n",
    "    # 绘制散点图\n",
    "    plt.figure()\n",
    "    plt.scatter(X[y == 1, 0], X[y == 1, 1], marker='x', c='r', s=100, )\n",
    "    plt.scatter(X[y == 0, 0], X[y == 0, 1], marker='o', c='b', s=100, )\n",
    "    # create a mesh to plot in\n",
    "    h = 0.002\n",
    "    #这里的y表示的是纵坐标的y不是label\n",
    "    x_min, x_max = X[:, 0].min() - 0.2, X[:, 0].max() + 0.2\n",
    "    y_min, y_max = X[:, 1].min() - 0.2, X[:, 1].max() + 0.2\n",
    "    xx, yy = np.meshgrid(np.arange(x_min, x_max, h),\n",
    "                         np.arange(y_min, y_max, h))\n",
    "    Z = clf.predict(np.c_[xx.ravel(), yy.ravel()])  # xx.ravel() 将多维数组变成一维数组\n",
    "    Z = Z.reshape(np.array(xx.shape))\n",
    "    plt.contourf(xx, yy, Z, cmap=plt.cm.ocean, alpha=0.6)\n",
    "    plt.show()\n",
    "Decision_Tree_Visualizition(X_train, y_train, bag_clf)"
   ]
  },
  {
   "cell_type": "code",
   "execution_count": 13,
   "metadata": {},
   "outputs": [
    {
     "data": {
      "text/plain": [
       "GradientBoostingRegressor(alpha=0.9, criterion='friedman_mse', init=None,\n",
       "             learning_rate=0.1, loss='ls', max_depth=2, max_features=None,\n",
       "             max_leaf_nodes=None, min_impurity_decrease=0.0,\n",
       "             min_impurity_split=None, min_samples_leaf=1,\n",
       "             min_samples_split=2, min_weight_fraction_leaf=0.0,\n",
       "             n_estimators=58, n_iter_no_change=None, presort='auto',\n",
       "             random_state=None, subsample=1.0, tol=0.0001,\n",
       "             validation_fraction=0.1, verbose=0, warm_start=False)"
      ]
     },
     "execution_count": 13,
     "metadata": {},
     "output_type": "execute_result"
    }
   ],
   "source": [
    "#使用早停技术\n",
    "import numpy as np\n",
    "from sklearn.model_selection import train_test_split\n",
    "from sklearn.metrics import mean_squared_error\n",
    "X_train, X_val, y_train, y_val = train_test_split(X, y)\n",
    "gbrt = GradientBoostingRegressor(max_depth=2, n_estimators=120)\n",
    "gbrt.fit(X_train, y_train)\n",
    "#gbrt是使用上一个回归器的残差来训练下一个回归器，因此每一个阶段都有一组y_pred。可以用staged_predict返回\n",
    "errors = [mean_squared_error(y_val, y_pred) for y_pred in gbrt.staged_predict(X_val)] \n",
    "bst_n_estimators = np.argmin(errors)\n",
    "gbrt_best = GradientBoostingRegressor(max_depth=2,n_estimators=bst_n_estimators)\n",
    "gbrt_best.fit(X_train, y_train)\n",
    "'''上面的代码是先在一大堆树中训练,然后再回头去找最优数目。相反你也可以早早的停止训练来实现早停。你可以通过设置\n",
    "warm_start=True来实现 ,这使得当fit()方法被调用时 sklearn 保留现有树,并允许增量训练。'''\n",
    "gbrt = GradientBoostingRegressor(max_depth=2, warm_start=True)\n",
    "min_val_error = float(\"inf\")\n",
    "error_going_up = 0\n",
    "for n_estimators in range(1, 120):\n",
    "    gbrt.n_estimators = n_estimators\n",
    "    gbrt.fit(X_train, y_train)\n",
    "    y_pred = gbrt.predict(X_val)\n",
    "    val_error = mean_squared_error(y_val, y_pred)\n",
    "    if val_error < min_val_error:\n",
    "        min_val_error = val_error\n",
    "        error_going_up = 0\n",
    "    else:\n",
    "        error_going_up += 1\n",
    "        if error_going_up == 5:\n",
    "            break # early stopping"
   ]
  },
  {
   "cell_type": "code",
   "execution_count": 17,
   "metadata": {},
   "outputs": [
    {
     "name": "stdout",
     "output_type": "stream",
     "text": [
      "0\n",
      "1\n",
      "2\n"
     ]
    }
   ],
   "source": []
  },
  {
   "cell_type": "code",
   "execution_count": 25,
   "metadata": {},
   "outputs": [
    {
     "data": {
      "text/plain": [
       "0.896"
      ]
     },
     "execution_count": 25,
     "metadata": {},
     "output_type": "execute_result"
    }
   ],
   "source": []
  },
  {
   "cell_type": "code",
   "execution_count": 46,
   "metadata": {},
   "outputs": [
    {
     "data": {
      "text/plain": [
       "0.912"
      ]
     },
     "execution_count": 46,
     "metadata": {},
     "output_type": "execute_result"
    }
   ],
   "source": []
  }
 ],
 "metadata": {
  "kernelspec": {
   "display_name": "Python 3",
   "language": "python",
   "name": "python3"
  },
  "language_info": {
   "codemirror_mode": {
    "name": "ipython",
    "version": 3
   },
   "file_extension": ".py",
   "mimetype": "text/x-python",
   "name": "python",
   "nbconvert_exporter": "python",
   "pygments_lexer": "ipython3",
   "version": "3.7.3"
  }
 },
 "nbformat": 4,
 "nbformat_minor": 2
}
