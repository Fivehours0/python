{
 "cells": [
  {
   "cell_type": "code",
   "execution_count": null,
   "metadata": {},
   "outputs": [],
   "source": [
    "import numpy as np\n",
    "import matplotlib.pyplot as plt\n",
    "\n",
    "DNA_SIZE = 10            #种群DNA序列的长度\n",
    "POP_SIZE = 100           #一个种群中个体的数量\n",
    "CROSS_RATE = 0.8         #交叉匹配率(DNA交叉匹配)\n",
    "MUTATION_RATE = 0.003    #变异概率\n",
    "N_GENERATIONS = 200      #种群迭代次数\n",
    "X_BOUND = [0, 5]         #x的范围 最小0 最大5\n",
    "\n",
    "#fx的函数形式\n",
    "def F(x): \n",
    "    return np.sin(10*x)*x + np.cos(2*x)*x     # to find the maximum of this function\n",
    "\n",
    "# find non-zero fitness for selection\n",
    "def get_fitness(pred):   #相当于减去最小值，即将最小值作为零基准线\n",
    "    return pred + 1e-3 - np.min(pred)  #1e-3表示 1*10^-3即0.001\n",
    "\n",
    "#矩阵运算，括号中的内容相当于权值即512 256 128...1 pop为DNA序列 pop.dot()相当于将DNA矩阵与权值矩阵\n",
    "#相乘，即将二进制转换为十进制  /(2^9-1)*5即将其转换至5里内的十进制数据\n",
    "# convert binary DNA to decimal and normalize it to a range(0, 5)\n",
    "def translateDNA(pop): #dot代表矩阵相乘\n",
    "    return pop.dot(2 ** np.arange(DNA_SIZE)[::-1]) / float(2**DNA_SIZE-1) * X_BOUND[1]\n",
    "\n",
    "#以样本的适应度来决定该样本在下一个种群中出现的概率\n",
    "def select(pop, fitness):    # nature selection wrt pop's fitness\n",
    "    idx = np.random.choice(np.arange(POP_SIZE), size=POP_SIZE, replace=True,\n",
    "                           p=fitness/fitness.sum())\n",
    "    return pop[idx]\n",
    "\n",
    "\n",
    "def crossover(parent, pop):     # mating process (genes crossover)\n",
    "    if np.random.rand() < CROSS_RATE:\n",
    "        i_ = np.random.randint(0, POP_SIZE, size=1)                             # select another individual from pop\n",
    "        cross_points = np.random.randint(0, 2, size=DNA_SIZE).astype(np.bool)   # choose crossover points\n",
    "        parent[cross_points] = pop[i_, cross_points]                            # mating and produce one child\n",
    "    return parent\n",
    "\n",
    "#进行变异\n",
    "def mutate(child):\n",
    "    for point in range(DNA_SIZE):\n",
    "        if np.random.rand() < MUTATION_RATE:#生成0至1的随机数，若小于变异率则发生变异\n",
    "            child[point] = 1 if child[point] == 0 else 0\n",
    "    return child\n",
    "\n",
    "#生成100个长度为10的0,1序列，相当与二维数组，即初代种群DNA，100个个体\n",
    "pop = np.random.randint(2, size=(POP_SIZE, DNA_SIZE)) #initialize the pop DNA\n",
    "plt.ion()       # something about plotting\n",
    "\n",
    "x = np.linspace(*X_BOUND, 200) #*X_BOUND可以理解为指针，即（0,5,200）在0至5区间内生成200个等间距的数\n",
    "plt.plot(x, F(x))\n",
    "\n",
    "for _ in range(N_GENERATIONS):   \n",
    "    F_values = F(translateDNA(pop))    # compute function value by extracting DNA\n",
    "\n",
    "    # something about plotting\n",
    "    if 'sca' in globals(): sca.remove()\n",
    "    sca = plt.scatter(translateDNA(pop), F_values, s=200, lw=0, c='red', alpha=0.5); plt.pause(0.05)\n",
    "\n",
    "    # GA part (evolution)\n",
    "    fitness = get_fitness(F_values)\n",
    "    print(\"Most fitted DNA: \", pop[np.argmax(fitness), :]) #argmax返回最大数的下标\n",
    "    pop = select(pop, fitness)\n",
    "    pop_copy = pop.copy()\n",
    "    for parent in pop:\n",
    "        child = crossover(parent, pop_copy)\n",
    "        child = mutate(child)\n",
    "        parent[:] = child       # parent is replaced by its child\n",
    "\n",
    "plt.ioff()\n",
    "#plt.show()\n"
   ]
  },
  {
   "cell_type": "code",
   "execution_count": null,
   "metadata": {
    "scrolled": true
   },
   "outputs": [],
   "source": [
    "help(np.random.rand)"
   ]
  },
  {
   "cell_type": "code",
   "execution_count": null,
   "metadata": {
    "scrolled": true
   },
   "outputs": [],
   "source": [
    "pop = np.random.randint(2, size=(POP_SIZE, DNA_SIZE)) #initialize the pop DNA\n",
    "F_values = F(translateDNA(pop))\n",
    "idx = np.random.choice(np.arange(POP_SIZE), size=POP_SIZE, replace=True,\n",
    "                       p=fitness/fitness.sum())\n",
    "p=fitness/fitness.sum()\n",
    "p\n",
    "#print(F_values)\n",
    "#print(np.min(F_values))\n",
    "#get_fitness(F_values)"
   ]
  }
 ],
 "metadata": {
  "kernelspec": {
   "display_name": "Python 3",
   "language": "python",
   "name": "python3"
  },
  "language_info": {
   "codemirror_mode": {
    "name": "ipython",
    "version": 3
   },
   "file_extension": ".py",
   "mimetype": "text/x-python",
   "name": "python",
   "nbconvert_exporter": "python",
   "pygments_lexer": "ipython3",
   "version": "3.6.5"
  }
 },
 "nbformat": 4,
 "nbformat_minor": 2
}
