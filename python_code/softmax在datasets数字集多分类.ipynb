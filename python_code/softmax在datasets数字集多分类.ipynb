{
 "cells": [
  {
   "cell_type": "code",
   "execution_count": 1,
   "metadata": {},
   "outputs": [
    {
     "data": {
      "text/plain": [
       "<Figure size 640x480 with 0 Axes>"
      ]
     },
     "metadata": {},
     "output_type": "display_data"
    },
    {
     "data": {
      "text/plain": [
       "<Figure size 480x480 with 1 Axes>"
      ]
     },
     "metadata": {},
     "output_type": "display_data"
    },
    {
     "data": {
      "text/plain": [
       "<Figure size 640x480 with 1 Axes>"
      ]
     },
     "metadata": {},
     "output_type": "display_data"
    },
    {
     "data": {
      "text/plain": [
       "0.8722222222222222"
      ]
     },
     "execution_count": 1,
     "metadata": {},
     "output_type": "execute_result"
    }
   ],
   "source": [
    "import numpy as np\n",
    "import pandas as pd \n",
    "import matplotlib.pyplot as plt\n",
    "from sklearn import datasets\n",
    "from sklearn.model_selection import StratifiedShuffleSplit\n",
    "from sklearn.preprocessing import StandardScaler\n",
    "from sklearn.metrics import accuracy_score\n",
    "\n",
    "#加载数据  1797幅 8x8图像\n",
    "digits_datas = datasets.load_digits()\n",
    "X = digits_datas.data\n",
    "y = digits_datas.target\n",
    "\n",
    "#显示其中一副图像\n",
    "plt.figure()\n",
    "plt.matshow(X[2].reshape(8, 8), cmap='gray')\n",
    "plt.title('One picture in the training set\\n and its label is %i'%(y[2]))\n",
    "plt.axis('off')\n",
    "plt.show()\n",
    "\n",
    "#使用分层采样获得训练集(0.8)和测试集(0.2)\n",
    "split_index = StratifiedShuffleSplit(n_splits=3, test_size=0.2, random_state=42)\n",
    "for train_index, test_index in split_index.split(X, y):\n",
    "    X_train, X_test = X[train_index], X[test_index]\n",
    "    y_train, y_test = y[train_index], y[test_index]\n",
    "X_train, X_test= X_train.T, X_test.T\n",
    "scaler = StandardScaler()\n",
    "X_train = scaler.fit_transform(X_train)\n",
    "X_test = scaler.fit_transform(X_test)\n",
    "\n",
    "def initial(tributes_num, output_num, sample_num):\n",
    "    #param: 属性数  输出类别数 样本数量\n",
    "    #output: 初始化的参数矩阵\n",
    "    count = 0\n",
    "    y_loss_parameters = np.zeros((output_num, sample_num))# 计算损失函数时用到的y矩阵\n",
    "    for value in y_train:\n",
    "        y_loss_parameters[value-1, count] = 1\n",
    "        count += 1\n",
    "    W = np.random.randn(tributes_num, output_num) / 100\n",
    "    return W, y_loss_parameters\n",
    "\n",
    "def softmax(y_pre_prob):\n",
    "    #param: 输出层神经元输出矩阵\n",
    "    #output: softmax函数输出\n",
    "    return np.exp(y_pre_prob) / np.sum(np.exp(y_pre_prob), axis=0)\n",
    "\n",
    "def propagate(W, X, y_loss_param, learning_rate, num_iteration):\n",
    "    #param: W参数矩阵 训练集矩阵\n",
    "    #output: 迭代后的W参数 cost\n",
    "    cost = []\n",
    "    for i in range(num_iteration):\n",
    "        Z = np.dot(W.T, X)\n",
    "        A = softmax(Z)\n",
    "        L = - y_loss_param * np.log(A)\n",
    "        cost.append(np.sum(L))\n",
    "        for j in range(X.shape[1]):   # shape[1]为样本数\n",
    "            A[np.nonzero(y_loss_param[:, j]!=0), j] -= 1\n",
    "        dw = np.dot(X, A.T)\n",
    "        W = W - learning_rate * dw\n",
    "    return W, cost\n",
    "\n",
    "def predict(X, W):\n",
    "    #param: 训练集 W参数矩阵\n",
    "    #output: 预测值\n",
    "    Z = np.dot(W.T, X)\n",
    "    A = softmax(Z)\n",
    "    y_predict = np.argmax(A, axis=0) + 1\n",
    "    return y_predict\n",
    "\n",
    "W, y_loss_param = initial(X_train.shape[0], 10, X_train.shape[1])\n",
    "W, cost = propagate(W, X_train, y_loss_param, 0.001, 200)\n",
    "\n",
    "#绘制cost图像\n",
    "cost = np.array(cost)\n",
    "plt.figure()\n",
    "plt.plot(np.linspace(0, cost.shape, 200), cost)\n",
    "plt.title('cost')\n",
    "plt.show()\n",
    "accuracy_score(y_test, predict(X_test, W))"
   ]
  },
  {
   "cell_type": "code",
   "execution_count": null,
   "metadata": {},
   "outputs": [],
   "source": []
  }
 ],
 "metadata": {
  "kernelspec": {
   "display_name": "Python 3",
   "language": "python",
   "name": "python3"
  },
  "language_info": {
   "codemirror_mode": {
    "name": "ipython",
    "version": 3
   },
   "file_extension": ".py",
   "mimetype": "text/x-python",
   "name": "python",
   "nbconvert_exporter": "python",
   "pygments_lexer": "ipython3",
   "version": "3.7.3"
  }
 },
 "nbformat": 4,
 "nbformat_minor": 2
}
